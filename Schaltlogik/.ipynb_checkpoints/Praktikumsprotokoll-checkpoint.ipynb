{
 "cells": [
  {
   "cell_type": "markdown",
   "id": "0729489d-b6ec-4bed-85bc-14d229c57ebe",
   "metadata": {},
   "source": [
    "## Aufgabe 3 Addierer"
   ]
  },
  {
   "cell_type": "markdown",
   "id": "12c81a18-6aa5-44c9-897f-cab7cf377ae6",
   "metadata": {
    "tags": []
   },
   "source": [
    "### 3.1 Halbaddierer [7408, 7486]. \n",
    "<u> Aufgabenstellung: </u> \\\n",
    "Der Halbaddierer soll zwei einstellige Dualzahlen addieren. Überlegen Sie\n",
    "sich die zugehörige Wahrheitstabelle (Summe und Übertrag). Realisieren Sie den Halbaddierer mit je einem\n",
    "passenden Gatter für Summe und Übertrag und prüfen Sie seine Funktion.\n",
    "\n",
    "<u> Lösung: </u> \\\n",
    "Aufbau des Halbaddierers: \\\n",
    "<img src=\"31_Halbaddierer.png\" width=\"400\"> \\\n",
    "Halbaddierer Wahrheitstabelle beim Addieren zwei einstelliger Dualzahlen:\\\n",
    "$\n",
    "\\begin{array}{c c || c c}\n",
    "    A & B & S & Ü \\\\ \\hline\\hline\n",
    "    1 & 1 & 0 & 1 \\\\ \n",
    "    1 & 0 & 1 & 0 \\\\\n",
    "    0 & 1 & 1 & 0 \\\\\n",
    "    0 & 0 & 0 & 0\n",
    "\\end{array}\n",
    "$"
   ]
  },
  {
   "cell_type": "markdown",
   "id": "c1fa7c72-4b85-49a5-a74b-9b64d35d300a",
   "metadata": {},
   "source": [
    "### 3.2 Volladdierer [7408, 7486, 7432]. \n",
    "<u> Aufgabenstellung: </u> \\\n",
    "Überlegen Sie sich eine 1-Bit-Volladdierer-Schaltung, die aus zwei\n",
    "Halbaddierern und einem OR-Gatter für deren Übertragsausgänge besteht. Bauen Sie die Schaltung auf und\n",
    "prüfen Sie ihre Funktion.\n",
    "\n",
    "<u> Lösung: </u> \\\n",
    "Aufbau von zwei Halbaddierern und einem OR-Gatter: \\\n",
    "<img src=\"32_1-Bit-Volladdierer_aus_zwei_Halbaddierern.png\" width=\"400\"> \\\n",
    "Schematische Darstellung dieser Schaltung:\\\n",
    "<img src=\"32b_1-Bit-Volladdierer_aus_zwei_Halbaddierern_einfach.png\" width=\"400\"> \\\n",
    "Volladdierer Wahrheitstabelle beim Addieren von 3 einstelliger Dualzahlen:\\\n",
    "$\n",
    "\\begin{array}{c c c || c c}\n",
    "    A & B & C & S & Ü \\\\ \\hline\\hline\n",
    "    1 & 1 & 1 & 1 & 1 \\\\ \n",
    "    1 & 1 & 0 & 0 & 1 \\\\\n",
    "    1 & 0 & 1 & 0 & 1 \\\\\n",
    "    0 & 1 & 1 & 0 & 1 \\\\\n",
    "    0 & 0 & 1 & 1 & 0 \\\\ \n",
    "    0 & 1 & 0 & 1 & 0 \\\\\n",
    "    1 & 0 & 0 & 1 & 0 \\\\\n",
    "    0 & 0 & 0 & 0 & 0 \\\\\n",
    "\\end{array}\n",
    "$"
   ]
  },
  {
   "cell_type": "markdown",
   "id": "963efeb6-1f98-41b5-9cef-cddc1457385a",
   "metadata": {},
   "source": [
    "### 3.3 Subtrahierer [7483, 7400, 7486]\n",
    "<u> Aufgabenstellung: </u> \\\n",
    "Bauen Sie den vorgeschlagenen 4-Bit-Subtrahierer (Vorbereitungshilfe S.15) auf und untersuchen Sie seine Funktion sowohl für positive als auch für negative Differenzen. Die Schaltung ist trickreich, aber sie ist ein gutes Beispiel dafür, wie man bei geschickter Ausnutzung aller Möglichkeiten den Schaltungsaufwand klein halten kann.\n",
    "\n",
    "<u> Lösung: </u> \\\n",
    "Aufbau des Subtrahierers: \\\n",
    "<img rotate=\"(90deg)\" src=\"33_Subtrahierer.png\" width=\"300\"> "
   ]
  },
  {
   "cell_type": "markdown",
   "id": "f42a4d6a-6c35-42dd-8827-5abdbb11b2eb",
   "metadata": {},
   "source": [
    "## Aufgabe 4 Speicherelemente\n",
    "Eine Reihe von Flip-Flop-Typen wird vorgestellt. Flip-Flops (FF) sind bistabile Kippstufen, die als digitale Speicher dienen. Sie sind auch die Bausteine von Schieberegistern und Zählern."
   ]
  },
  {
   "cell_type": "markdown",
   "id": "c6677042-31f0-40ba-807b-63843d7d3d78",
   "metadata": {},
   "source": [
    "### 4.1 RS-Flip-Flop (RS-FF) [7400]\n",
    "<u> Aufgabenstellung: </u> \\\n",
    "Verbinden Sie zwei NAND-Gatter zu einem Flip-Flop. Ermitteln Sie\n",
    "seine Funktionstabelle. Eine Funktionstabelle beschreibt die Abhängigkeit der Ausgangszustände (hier an $Q$ und $\\overline{Q}$ ) von den Eingangszuständen (hier an $R$ (Reset) und $S$ (Set)).\n",
    "\n",
    "<u> Lösung: </u> \\\n",
    "Aufbau Flip-Flop: \\\n",
    "<img src=\"41_RS-Flip-Flop.png\" width=\"400\"> \\\n",
    "Funktionstabelle:\\\n",
    "$\n",
    "\\begin{array}{c c| c c | c}\n",
    "    S & R & Q_{n} & \\text{$\\overline{Q_{n}}$}\\\\ \\hline\\hline\n",
    "    0 & 0 & Q_{n-1} & \\text{$\\overline{Q_{n-1}}$} & \\text{keine Änderung (speichern)} \\\\ \n",
    "    0 & 1 & 0 & 1 & \\text{setze 0} \\\\\n",
    "    1 & 0 & 1 & 0 & \\text{setze 1} \\\\\n",
    "    1 & 1 & 1 & 1 & \\text{Q = $\\overline{Q}$: verboten} \\\\\n",
    "\\end{array}\n",
    "$"
   ]
  },
  {
   "cell_type": "markdown",
   "id": "eb62bcca-7c47-470e-bb56-bba80ce31f4b",
   "metadata": {},
   "source": [
    "### 4.2 Getaktetes RS-Flip-Flop (RST-FF) [7400]\n",
    "<u> Aufgabenstellung: </u> \\\n",
    "Bauen Sie ein RST-FF laut Vorbereitungshilfe S.19 auf.\n",
    "Ermitteln Sie seine Funktionstabelle. Finden Sie eine Möglichkeit, den „verbotenen Zustand“ zu eliminieren. \\\n",
    "<u> Lösung: </u> \\\n",
    "Aufbau getaktetes RS-Flip-Flop (RST-FF): \\\n",
    "<img src=\"42_Getaktetes_RS-Flip-Flop.png\" width=\"400\"> \\\n",
    "Funktionstabelle:\\\n",
    "$\n",
    "\\begin{array}{c c c| c c | c}\n",
    "    T & S & R & Q_{n+1} & \\text{$\\overline{Q_{n+1}}$}\\\\ \\hline\\hline\n",
    "    0 & 0 & 0 & Q_{n} & \\text{$\\overline{Q_{n}}$} & \\text{kein Takt $\\Rightarrow$  keine Änderung} \\\\ \n",
    "    0 & 0 & 1 & Q_{n} & \\text{$\\overline{Q_{n}}$} & \\text{kein Takt $\\Rightarrow$  keine Änderung} \\\\\n",
    "    0 & 1 & 0 & Q_{n} & \\text{$\\overline{Q_{n}}$} & \\text{kein Takt $\\Rightarrow$  keine Änderung} \\\\\n",
    "    0 & 1 & 1 & Q_{n} & \\text{$\\overline{Q_{n}}$} & \\text{kein Takt $\\Rightarrow$  keine Änderung} \\\\\n",
    "    1 & 0 & 0 & Q_{n} & \\text{$\\overline{Q_{n}}$} & \\text{keine Änderung (speichern)} \\\\\n",
    "    1 & 0 & 1 & 0 & 1 & \\text{setze 0} \\\\\n",
    "    1 & 1 & 0 & 1 & 0 & \\text{setze 1} \\\\\n",
    "    1 & 1 & 1 & 1 & 1 & \\text{Q = $\\overline{Q}$: verboten} \\\\\n",
    "\\end{array}\n",
    "$\\\n",
    "Möglichkeit um den verbotenen Zustand zu eleminieren: \\\n",
    "\"Wird beim RST-FF der Reset Eingang  ̈uber eine Negation an den Set-Eingang angeschlossen (hierzu\n",
    "kann man das NAND-Gatter des Set Einganges der Taktstufe verwenden), so ergibt sich ein neuer\n",
    "Eingang, der sog. Data-Eingang D. Liegt der Taktzustand 1 an und legt man an diesen Eingang (D)\n",
    "1 an, so wird Q auf 1 gesetzt. Dies wird solange gehalten bis man gleichzeitig T = 1 und D = 0\n",
    "anlegt. Das D-FF speichert folglich die am D-Eingang angelegten Informationen bis zum nächsten\n",
    "Taktzustand 1. Dieses Flip-Flop hat keinen verbotenen Zustand da immer $\\overline{S} \\neq \\overline{R}$ gewährleistet ist.\" (Vorbereitungshilfe Schaltlogik, Christian Benz und Christian Barth, Version Jan. 2008, http://www-ekp.physik.uni-karlsruhe.de/~simonis/praktikum/p1/p1-versuchsanleitungen/Schaltlogik-Hilfe.pdf) \\\n",
    "Hier ist noch der Schaltplan für die Schaltung, bei welcher der verbotene Zustand eleminiert ist: \\\n",
    "<img src=\"41b_D-Flip-Flop.png\" width=\"400\"> \\"
   ]
  },
  {
   "cell_type": "markdown",
   "id": "7725f21c-ebcc-4104-8964-28fc347bda83",
   "metadata": {},
   "source": [
    "### 4.3 JK-Master-Slave-Flip-Flop (JK-MS-FF) [7400, 7410]\n",
    "<u> Aufgabenstellung: </u> \\\n",
    "Bauen Sie ein JK-MS-FF nach Vorbereitungshilfe S.23 auf. Ermitteln Sie seine Funktionstabelle, in der sowohl die Master- als auch die Slave-Ausgänge enthalten sein sollen, und die zwischen dem 0-1-Wechsel und dem 1-0-Wechsel des Taktsignals unterscheidet. Beschreiben Sie die Unterschiede und Vorteile dieses FF gegenüber den zuvor untersuchten FF-Typen.\\\n",
    "<u> Lösung: </u> \\\n",
    "Hier ist der Schaltplan für die JK-Master-Slave-Flip-Flop-Schaltung:\n",
    "<img src=\"43_JK_Master-Slave-Flip-Flop.png\" width=\"400\"> \\\n",
    "Funktionstabelle: \\\n",
    "$\n",
    "\\begin{array}{c c c| c c | c}\n",
    "    \\text{Taktflanke} & J & K & Q_{n+1} & \\text{$\\overline{Q_{n+1}}$}\\\\ \\hline\\hline\n",
    "    + & 0 & 0 & Q_{n} & \\text{$\\overline{Q_{n}}$} & \\text{keine Änderung (speichern)} \\\\ \n",
    "    - & 0 & 1 & Q_{n} & \\text{$\\overline{Q_{n}}$} & \\text{falsche Taktflanke $\\Rightarrow$  keine Änderung} \\\\\n",
    "    + & 0 & 1 & 0 & 1 & \\text{setze 0} \\\\\n",
    "    - & 0 & 1 & Q_{n} & \\text{$\\overline{Q_{n}}$} & \\text{falsche Taktflanke $\\Rightarrow$  keine Änderung} \\\\\n",
    "    + & 1 & 0 & 1 & 0 & \\text{setze 1} \\\\\n",
    "    - & 1 & 0 & Q_{n} & \\text{$\\overline{Q_{n}}$} & \\text{falsche Taktflanke $\\Rightarrow$  keine Änderung} \\\\\n",
    "    + & 1 & 1 & \\text{$\\overline{Q_{n}}$} & Q_{n} & \\text{Wert permanent wechseln bis zur nächsten Änderung} \\\\\n",
    "    - & 1 & 1 & Q_{n} & \\text{$\\overline{Q_{n}}$} & \\text{falsche Taktflanke $\\Rightarrow$  keine Änderung} \\\\\n",
    "\\end{array}\n",
    "$ \\\n",
    "Unterschiede und Vorteile dieses FF gegenüber den zuvor untersuchten Typen: \n",
    "* Reihenfolge der benötigten Taktzustände ist fest\n",
    "* festes Vorzeichen der Taktflanke\n",
    "* negativen Taktflanke nicht durch Taktzustände beeinflusst"
   ]
  },
  {
   "cell_type": "code",
   "execution_count": null,
   "id": "65ccfca5-682c-45ea-91c2-ac6acde599e0",
   "metadata": {},
   "outputs": [],
   "source": []
  }
 ],
 "metadata": {
  "kernelspec": {
   "display_name": "Python 3 (ipykernel)",
   "language": "python",
   "name": "python3"
  },
  "language_info": {
   "codemirror_mode": {
    "name": "ipython",
    "version": 3
   },
   "file_extension": ".py",
   "mimetype": "text/x-python",
   "name": "python",
   "nbconvert_exporter": "python",
   "pygments_lexer": "ipython3",
   "version": "3.9.6"
  }
 },
 "nbformat": 4,
 "nbformat_minor": 5
}
