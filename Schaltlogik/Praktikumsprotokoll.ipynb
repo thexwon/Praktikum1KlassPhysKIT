{
 "cells": [
  {
   "cell_type": "markdown",
   "id": "0729489d-b6ec-4bed-85bc-14d229c57ebe",
   "metadata": {},
   "source": [
    "## Aufgabe 3 Addierer"
   ]
  },
  {
   "cell_type": "markdown",
   "id": "12c81a18-6aa5-44c9-897f-cab7cf377ae6",
   "metadata": {
    "tags": []
   },
   "source": [
    "### 3.1 Halbaddierer [7408, 7486]. \n",
    "<u> Aufgabenstellung: </u> \\\n",
    "Der Halbaddierer soll zwei einstellige Dualzahlen addieren. Überlegen Sie\n",
    "sich die zugehörige Wahrheitstabelle (Summe und Übertrag). Realisieren Sie den Halbaddierer mit je einem\n",
    "passenden Gatter für Summe und Übertrag und prüfen Sie seine Funktion.\n",
    "\n",
    "<u> Lösung: </u> \\\n",
    "Aufbau des Halbaddierers: \\\n",
    "<img src=\"31_Halbaddierer.png\" width=\"400\"> \\\n",
    "Halbaddierer Wahrheitstabelle beim Addieren zwei einstelliger Dualzahlen:\\\n",
    "$\n",
    "\\begin{array}{c c || c c}\n",
    "    A & B & S & Ü \\\\ \\hline\\hline\n",
    "    1 & 1 & 0 & 1 \\\\ \n",
    "    1 & 0 & 1 & 0 \\\\\n",
    "    0 & 1 & 1 & 0 \\\\\n",
    "    0 & 0 & 0 & 0\n",
    "\\end{array}\n",
    "$"
   ]
  },
  {
   "cell_type": "markdown",
   "id": "c1fa7c72-4b85-49a5-a74b-9b64d35d300a",
   "metadata": {},
   "source": [
    "### 3.2 Volladdierer [7408, 7486, 7432]. \n",
    "<u> Aufgabenstellung: </u> \\\n",
    "Überlegen Sie sich eine 1-Bit-Volladdierer-Schaltung, die aus zwei\n",
    "Halbaddierern und einem OR-Gatter für deren Übertragsausgänge besteht. Bauen Sie die Schaltung auf und\n",
    "prüfen Sie ihre Funktion.\n",
    "\n",
    "<u> Lösung: </u> \\\n",
    "Aufbau von zwei Halbaddierern und einem OR-Gatter: \\\n",
    "<img src=\"32_1-Bit-Volladdierer_aus_zwei_Halbaddierern.png\" width=\"400\"> \\\n",
    "Schematische Darstellung dieser Schaltung:\\\n",
    "<img src=\"32b_1-Bit-Volladdierer_aus_zwei_Halbaddierern_einfach.png\" width=\"400\"> \\\n",
    "Volladdierer Wahrheitstabelle beim Addieren von 3 einstelliger Dualzahlen:\\\n",
    "$\n",
    "\\begin{array}{c c c || c c}\n",
    "    A & B & C & S & Ü \\\\ \\hline\\hline\n",
    "    1 & 1 & 1 & 1 & 1 \\\\ \n",
    "    1 & 1 & 0 & 0 & 1 \\\\\n",
    "    1 & 0 & 1 & 0 & 1 \\\\\n",
    "    0 & 1 & 1 & 0 & 1 \\\\\n",
    "    0 & 0 & 1 & 1 & 0 \\\\ \n",
    "    0 & 1 & 0 & 1 & 0 \\\\\n",
    "    1 & 0 & 0 & 1 & 0 \\\\\n",
    "    0 & 0 & 0 & 0 & 0 \\\\\n",
    "\\end{array}\n",
    "$"
   ]
  },
  {
   "cell_type": "markdown",
   "id": "963efeb6-1f98-41b5-9cef-cddc1457385a",
   "metadata": {},
   "source": [
    "### 3.3 Subtrahierer [7483, 7400, 7486]\n",
    "<u> Aufgabenstellung: </u> \\\n",
    "Bauen Sie den vorgeschlagenen 4-Bit-Subtrahierer (Vorbereitungshilfe S.15) auf und untersuchen Sie seine Funktion sowohl für positive als auch für negative Differenzen. Die Schaltung ist trickreich, aber sie ist ein gutes Beispiel dafür, wie man bei geschickter Ausnutzung aller Möglichkeiten den Schaltungsaufwand klein halten kann.\n",
    "\n",
    "<u> Lösung: </u> \\\n",
    "Aufbau des Subtrahierers: \\\n",
    "<img rotate=\"(90deg)\" src=\"33_Subtrahierer.png\" width=\"300\"> "
   ]
  },
  {
   "cell_type": "code",
   "execution_count": null,
   "id": "e507c33b-5dc4-491c-956e-07eda70218c7",
   "metadata": {},
   "outputs": [],
   "source": []
  }
 ],
 "metadata": {
  "kernelspec": {
   "display_name": "Python 3 (ipykernel)",
   "language": "python",
   "name": "python3"
  },
  "language_info": {
   "codemirror_mode": {
    "name": "ipython",
    "version": 3
   },
   "file_extension": ".py",
   "mimetype": "text/x-python",
   "name": "python",
   "nbconvert_exporter": "python",
   "pygments_lexer": "ipython3",
   "version": "3.9.6"
  }
 },
 "nbformat": 4,
 "nbformat_minor": 5
}
