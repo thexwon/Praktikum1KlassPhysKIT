{
 "cells": [
  {
   "cell_type": "markdown",
   "id": "0729489d-b6ec-4bed-85bc-14d229c57ebe",
   "metadata": {},
   "source": [
    "## Aufgabe 3"
   ]
  },
  {
   "cell_type": "markdown",
   "id": "12c81a18-6aa5-44c9-897f-cab7cf377ae6",
   "metadata": {},
   "source": [
    "### 3.1 Halbaddierer [7408, 7486]. \n",
    "Aufgabenstellung:\n",
    "Der Halbaddierer soll zwei einstellige Dualzahlen addieren. Überlegen Sie\n",
    "sich die zugehörige Wahrheitstabelle (Summe und Übertrag). Realisieren Sie den Halbaddierer mit je einem\n",
    "passenden Gatter für Summe und Übertrag und prüfen Sie seine Funktion.\n",
    "\n",
    "Lösung:\n",
    "Aufbau des Halbaddierers:\n",
    "<img src=\"attachment:image.png\" width=\"400\">\n",
    "Halbaddierer Wahrheitstabelle beim Addieren zwei einstelliger Dualzahlen:\n",
    "$$\n",
    "\\begin{array}{c c || c c}\n",
    "    A & B & S & Ü \\\\ \\hline\\hline\n",
    "    1 & 1 & 0 & 1 \\\\ \n",
    "    1 & 0 & 1 & 0 \\\\\n",
    "    0 & 1 & 1 & 0 \\\\\n",
    "    0 & 0 & 0 & 0\n",
    "\\end{array}\n",
    "$$"
   ]
  },
  {
   "cell_type": "markdown",
   "id": "c1fa7c72-4b85-49a5-a74b-9b64d35d300a",
   "metadata": {},
   "source": [
    "##3.2 Volladdierer [7408, 7486, 7432]. \n",
    "Überlegen Sie sich eine 1-Bit-Volladdierer-Schaltung, die aus zwei\n",
    "Halbaddierern und einem OR-Gatter für deren Übertragsausgänge besteht. Bauen Sie die Schaltung auf und\n",
    "prüfen Sie ihre Funktion."
   ]
  }
 ],
 "metadata": {
  "kernelspec": {
   "display_name": "Python 3 (ipykernel)",
   "language": "python",
   "name": "python3"
  },
  "language_info": {
   "codemirror_mode": {
    "name": "ipython",
    "version": 3
   },
   "file_extension": ".py",
   "mimetype": "text/x-python",
   "name": "python",
   "nbconvert_exporter": "python",
   "pygments_lexer": "ipython3",
   "version": "3.9.6"
  }
 },
 "nbformat": 4,
 "nbformat_minor": 5
}
