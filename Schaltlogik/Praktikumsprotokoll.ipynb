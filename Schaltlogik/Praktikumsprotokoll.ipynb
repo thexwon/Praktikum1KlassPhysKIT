{
 "cells": [
  {
   "cell_type": "markdown",
   "id": "0729489d-b6ec-4bed-85bc-14d229c57ebe",
   "metadata": {},
   "source": [
    "## Aufgabe 3"
   ]
  },
  {
   "cell_type": "markdown",
   "id": "12c81a18-6aa5-44c9-897f-cab7cf377ae6",
   "metadata": {},
   "source": [
    "### 3.1 Halbaddierer [7408, 7486]. \n",
    "Aufgabenstellung:\n",
    "Der Halbaddierer soll zwei einstellige Dualzahlen addieren. Überlegen Sie\n",
    "sich die zugehörige Wahrheitstabelle (Summe und Übertrag). Realisieren Sie den Halbaddierer mit je einem\n",
    "passenden Gatter für Summe und Übertrag und prüfen Sie seine Funktion.\n",
    "\n",
    "Lösung:"
   ]
  },
  {
   "cell_type": "code",
   "execution_count": null,
   "id": "ab5c65f0-b4cb-4343-8704-fa3d0fada162",
   "metadata": {},
   "outputs": [],
   "source": []
  }
 ],
 "metadata": {
  "kernelspec": {
   "display_name": "Python 3 (ipykernel)",
   "language": "python",
   "name": "python3"
  },
  "language_info": {
   "codemirror_mode": {
    "name": "ipython",
    "version": 3
   },
   "file_extension": ".py",
   "mimetype": "text/x-python",
   "name": "python",
   "nbconvert_exporter": "python",
   "pygments_lexer": "ipython3",
   "version": "3.9.6"
  }
 },
 "nbformat": 4,
 "nbformat_minor": 5
}
