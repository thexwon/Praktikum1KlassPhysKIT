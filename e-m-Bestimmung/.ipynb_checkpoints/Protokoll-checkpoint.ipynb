{
 "cells": [
  {
   "cell_type": "markdown",
   "id": "c6a99390-b076-4ab9-9858-f08791f8ba93",
   "metadata": {},
   "source": [
    "## Aufgabe 1 $\\frac{e}{m}$-Bestimmung mit dem Fadenstrahlrohr\n",
    "### 1.1 Untersuchung des Feldes eines Helmholtzspulenpaars \n",
    "Bauen Sie vor dem Plexiglaskasten mit Helmholtzspulen und Fadenstrahlrohr die zusätzliche Helmholtzspule mit Meßplatte so auf, dass sich die Meßplatte in der Mittelebene zwischen zwei Spulen befindet. Die Anordnung gleicht der Spulenanordnung, in der sich das Fadenstrahlrohr befindet. Die Spulen beiderseits der Meßplatte sind in Reihe zu schalten. Die Anschlüsse der betreffenden Spule im Plexiglaskasten sind an extra Buchsen herausgeführt. Die Meßplatte\n",
    "kann an etlichen vorgesehenen Stellen die Hallsonde aufnehmen.\\\n",
    "Bild dieses Aufbaus:\\\n",
    "![](Helmholtz-Spulenpaar.jpg)  \\\n",
    "Messen Sie die Hallspannungen an den vorgesehenen Stellen für die Spulenströme $1.0$; $1.5$; und $2.0 A$."
   ]
  },
  {
   "cell_type": "code",
   "execution_count": 1,
   "id": "b24922a5-ced1-4d20-8ada-d7f652beaac0",
   "metadata": {},
   "outputs": [
    {
     "name": "stdout",
     "output_type": "stream",
     "text": [
      "Welcome to JupyROOT 6.24/06\n"
     ]
    }
   ],
   "source": [
    "import numpy as np\n",
    "from matplotlib import pyplot as plt\n",
    "from kafe2 import  XYContainer, Fit, XYFit, Plot, ContoursProfiler                            \n",
    "import PhyPraKit as ppk\n",
    "from scipy.signal import find_peaks\n",
    "from uncertainties import ufloat, unumpy\n",
    "from math import log10, floor"
   ]
  },
  {
   "cell_type": "code",
   "execution_count": 2,
   "id": "1e12382f-a8ce-4fc3-ba01-62eb38401181",
   "metadata": {},
   "outputs": [
    {
     "name": "stdout",
     "output_type": "stream",
     "text": [
      "gemessene Hallspannungen bei einem Spulenstrom von 1A: [0.02344 0.0255  0.02587 0.02587 0.02606 0.02606 0.02512 0.02119 0.02587\n",
      " 0.02662 0.02681 0.02681] in V\n",
      "gemessene Hallspannungen bei einem Spulenstrom von 1.5A: [0.03731 0.04013 0.04106 0.04125 0.04125 0.04106 0.03919 0.03338 0.0405\n",
      " 0.04163 0.042   0.04144] in V\n",
      "gemessene Hallspannungen bei einem Spulenstrom von 2A: [0.0495  0.05325 0.05456 0.05494 0.05494 0.05496 0.05194 0.04406 0.05381\n",
      " 0.05494 0.05438 0.05381] in V\n"
     ]
    }
   ],
   "source": [
    "data=np.loadtxt('1.1hallspannungen_ströme.txt', skiprows=4) #importiere Daten\n",
    "U_1A=data[:,0]*10**(-3)\n",
    "U_15A=data[:,1]*10**(-3)\n",
    "U_2A=data[:,2]*10**(-3)\n",
    "print('gemessene Hallspannungen bei einem Spulenstrom von 1A:', U_1A, 'in V')\n",
    "print('gemessene Hallspannungen bei einem Spulenstrom von 1.5A:', U_15A, 'in V')\n",
    "print('gemessene Hallspannungen bei einem Spulenstrom von 2A:', U_2A, 'in V')"
   ]
  },
  {
   "cell_type": "markdown",
   "id": "15f6533f-cf9b-4ee3-b1a8-880685b6b61b",
   "metadata": {},
   "source": [
    "### 1.2 Kalibrieren Sie die Hallsonde mit Hilfe des berechenbaren Feldes der langen Eichspule\n",
    "Messen Sie etwa 10 Wertepaare (Hallspannung/Spulenstrom) und berechnen Sie daraus die Eichgerade B(UHall). Der Bereich der hier gemessenen Hallspannungen sollte zu den bei Aufgabe 1.1 gemessenen Werten passen."
   ]
  },
  {
   "cell_type": "code",
   "execution_count": 3,
   "id": "2523973a-15fb-4455-93a6-f7c2bc62a7ac",
   "metadata": {},
   "outputs": [
    {
     "name": "stdout",
     "output_type": "stream",
     "text": [
      "angelegter Spulenstrom: [0.103 0.164 0.211 0.291 0.355 0.498 0.598 0.745 0.881 0.928] in A\n",
      "gemessene Hallspannung: [0.01106 0.01706 0.02175 0.03    0.03656 0.05006 0.06075 0.075   0.08944\n",
      " 0.09356] in V\n"
     ]
    }
   ],
   "source": [
    "data=np.loadtxt('1.2hallspannungen_ströme.txt', skiprows=7) #importiere gemessene Daten\n",
    "U_hall=data[:,1]*10**(-3)\n",
    "I_sp=data[:,0]\n",
    "print('angelegter Spulenstrom:',I_sp, 'in A')\n",
    "print('gemessene Hallspannung:',U_hall, 'in V')"
   ]
  },
  {
   "cell_type": "markdown",
   "id": "1865a6fa-c518-4606-8c29-e423255807f0",
   "metadata": {},
   "source": [
    "$B_{UHall}$ berechnen mit folgender Formel: $B_{UHall}=\\frac{\\mu_{0} \\cdot I\\cdot N}{L}$ \\\n",
    "Wobei N die Anzahl der Windungen, L die Länge der Spule und $\\mu_{0}$ die magnetische Feldkonstante mit einem Wert von $\\mu_{0}=1.256637 \\cdot 10^{-6} \\frac{N}{A^2}$ ist."
   ]
  },
  {
   "cell_type": "code",
   "execution_count": 6,
   "id": "dacfbc96-55a3-4e89-914c-82e977753048",
   "metadata": {},
   "outputs": [
    {
     "name": "stdout",
     "output_type": "stream",
     "text": [
      "[0.01106 0.01706 0.02175 0.03    0.03656 0.05006 0.06075 0.075   0.08944\n",
      " 0.09356] [0.00032358 0.00051522 0.00066288 0.0009142  0.00111527 0.00156451\n",
      " 0.00187867 0.00234049 0.00276774 0.0029154 ]\n",
      "[0.00051522 0.00066288 0.0009142  0.00111527 0.00156451 0.00276774\n",
      " 0.0029154 ]\n"
     ]
    }
   ],
   "source": [
    "y0=1.256637*10**(-6)\n",
    "L= 0.3\n",
    "N=750\n",
    "B_hall=(y0*I_sp*N)/L\n",
    "print(U_hall,B_hall)\n",
    "#B_hall.pop(0)\n",
    "#B_hall.pop(6) # Entfernen 0,6,7 für experimentelle bestimmung\n",
    "#B_hall.pop(7)\n",
    "indexes = [0, 6, 7]\n",
    "B_hall = np.delete(B_hall, indexes)\n",
    "U_hall = np.delete(U_hall, indexes)\n",
    "print(B_hall)"
   ]
  },
  {
   "cell_type": "code",
   "execution_count": 8,
   "id": "a60548e4-5be0-4bfa-8889-d2ebc7a4f621",
   "metadata": {},
   "outputs": [
    {
     "name": "stderr",
     "output_type": "stream",
     "text": [
      "/opt/conda/lib/python3.9/site-packages/kafe2/fit/_base/fit.py:1034: UserWarning: Cost function expects errors but no errors were specified.\n",
      "  warnings.warn(\"Cost function expects errors but no errors were specified.\")\n",
      "/opt/conda/lib/python3.9/site-packages/kafe2/fit/util/__init__.py:73: RuntimeWarning: divide by zero encountered in log\n",
      "  return 2.0 * np.sum(np.log(pointwise_error))\n",
      "/opt/conda/lib/python3.9/site-packages/kafe2/fit/_base/cost.py:330: UserWarning: Setting all data errors to 1 as a fallback.\n",
      "  warnings.warn(\"Setting all data errors to 1 as a fallback.\")\n",
      "/opt/conda/lib/python3.9/site-packages/kafe2/fit/util/__init__.py:54: UserWarning: Singular covariance matrix. Are the errors for some data points equal to zero?\n",
      "  warnings.warn(\n",
      "/opt/conda/lib/python3.9/site-packages/kafe2/fit/_base/cost.py:330: UserWarning: Setting all data errors to 1 as a fallback.\n",
      "  warnings.warn(\"Setting all data errors to 1 as a fallback.\")\n"
     ]
    },
    {
     "name": "stdout",
     "output_type": "stream",
     "text": [
      "Warning: the cost function has been evaluated as infinite. The fit might not converge correctly.\n"
     ]
    },
    {
     "data": {
      "image/png": "[encoded data removed]",
      "text/plain": [
       "<Figure size 432x288 with 2 Axes>"
      ]
     },
     "metadata": {
      "needs_background": "light"
     },
     "output_type": "display_data"
    }
   ],
   "source": [
    "def poly1(U_hall, a_0=0.0, a_1=1.0):\n",
    "    return a_0 + a_1*U_hall\n",
    "\n",
    "# Ablesegenauigkeit U_hall\n",
    "#xerr=U_hall_genauigkeit\n",
    "\n",
    "# Genauigkeit B_uhall:\n",
    "#B_hall_genauigkeit=(y0*I_sp_genauigkeit*N)/L_genauigkeit\n",
    "#yerr=B_hall_genauigkeit\n",
    "#yerr: 0.1\n",
    "# Define the fit\n",
    "fit = XYFit(xy_data = [U_hall, B_hall], model_function = poly1)\n",
    "\n",
    "# Add errors\n",
    "#fit.add_error(axis = 'y', err_val = yerr)\n",
    "#fit.add_error(axis = 'x', err_val = xerr)\n",
    "\n",
    "\n",
    "# Optional: Assign LaTeX expressions to the function and its variables.\n",
    "fit.assign_parameter_latex_names(a_0='a_0', a_1='a_1')\n",
    "fit.assign_model_function_latex_expression(\"y=a_0 + a_1*U_hall\")\n",
    "\n",
    "\n",
    "# Do the fit\n",
    "fit.do_fit()\n",
    "\n",
    "\n",
    "# Get a report about the fit in the output\n",
    "#fit.report()\n",
    "\n",
    "# Finaly plot the fit\n",
    "plot = Plot(fit)\n",
    "plot.plot()\n",
    "\n",
    "\n",
    "# and show everything\n",
    "plt.show()\n"
   ]
  },
  {
   "cell_type": "code",
   "execution_count": null,
   "id": "6dd64d91-0796-44e0-971c-f159207a4e27",
   "metadata": {},
   "outputs": [],
   "source": [
    "B0=-1.9*10**(-5)\n",
    "B1=0.0313\n",
    "def round_sig(x, sig=2):\n",
    "    return round(x, sig-int(floor(log10(abs(x))))-1)\n",
    "def B_hall(U, B0=-1.9*10**(-5), B1=0.0313):\n",
    "    return B0 + B1*U\n",
    "print('Damit ergibt sich für die Eichgerade: B_hall(U)=',round_sig(B0,4),'+',round_sig(B1,4),'* U')"
   ]
  },
  {
   "cell_type": "markdown",
   "id": "f8cd70df-53bf-4d0d-8ee4-0a7e5e8bcd94",
   "metadata": {},
   "source": [
    "### 1.3 Vergleichen Sie den gemessenen Wert des Mittenfeldes zwischen den Helmholtzspulen mit dem berechneten Wert. Überprüfen Sie die Feldhomogenität bei der vorliegenden Spulenanordnung. \n",
    "Unter der Voraussetzung Spulenradius = Spulenabstand = R gilt für das Mittenfeld $$B=0.7155\\cdot \\mu_{0} \\cdot n \\cdot \\frac{I}{R}$$\n",
    "Dabei ist n die Windungszahl der Spule und I der Strom in der Spule."
   ]
  },
  {
   "cell_type": "code",
   "execution_count": 11,
   "id": "52dc0e4c-249c-4447-9c15-5d684fd296be",
   "metadata": {},
   "outputs": [],
   "source": [
    "B_mess=B_hall\n",
    "y0=1.256637*10**(-6)\n",
    "n=2\n",
    "R=0.5\n",
    "def B_rech(I, y0, n, R):\n",
    "    return 0.7155*y0*n*I/R\n"
   ]
  },
  {
   "cell_type": "code",
   "execution_count": 12,
   "id": "36a1b011-de66-4dde-b336-de161043e82e",
   "metadata": {},
   "outputs": [
    {
     "ename": "TypeError",
     "evalue": "'numpy.ndarray' object is not callable",
     "output_type": "error",
     "traceback": [
      "\u001b[0;31m---------------------------------------------------------------------------\u001b[0m",
      "\u001b[0;31mTypeError\u001b[0m                                 Traceback (most recent call last)",
      "\u001b[0;32m/tmp/ipykernel_165/1378682458.py\u001b[0m in \u001b[0;36m<cell line: 1>\u001b[0;34m()\u001b[0m\n\u001b[0;32m----> 1\u001b[0;31m \u001b[0mB_1A_mess\u001b[0m\u001b[0;34m=\u001b[0m\u001b[0mB_mess\u001b[0m\u001b[0;34m(\u001b[0m\u001b[0mU_1A\u001b[0m\u001b[0;34m)\u001b[0m\u001b[0;34m\u001b[0m\u001b[0;34m\u001b[0m\u001b[0m\n\u001b[0m\u001b[1;32m      2\u001b[0m \u001b[0mB_1A_mess_mean\u001b[0m\u001b[0;34m=\u001b[0m\u001b[0mnp\u001b[0m\u001b[0;34m.\u001b[0m\u001b[0mmean\u001b[0m\u001b[0;34m(\u001b[0m\u001b[0mB_1A_mess\u001b[0m\u001b[0;34m)\u001b[0m\u001b[0;34m\u001b[0m\u001b[0;34m\u001b[0m\u001b[0m\n\u001b[1;32m      3\u001b[0m \u001b[0mB_1A_mess_abw\u001b[0m\u001b[0;34m=\u001b[0m\u001b[0mnp\u001b[0m\u001b[0;34m.\u001b[0m\u001b[0msqrt\u001b[0m\u001b[0;34m(\u001b[0m\u001b[0mnp\u001b[0m\u001b[0;34m.\u001b[0m\u001b[0mvar\u001b[0m\u001b[0;34m(\u001b[0m\u001b[0mB_1A_mess\u001b[0m\u001b[0;34m)\u001b[0m\u001b[0;34m)\u001b[0m\u001b[0;34m\u001b[0m\u001b[0;34m\u001b[0m\u001b[0m\n\u001b[1;32m      4\u001b[0m \u001b[0mB_1A_mess_u\u001b[0m\u001b[0;34m=\u001b[0m\u001b[0mufloat\u001b[0m\u001b[0;34m(\u001b[0m\u001b[0mB_1A_mess_mean\u001b[0m\u001b[0;34m,\u001b[0m\u001b[0mB_1A_mess_abw\u001b[0m\u001b[0;34m)\u001b[0m\u001b[0;34m\u001b[0m\u001b[0;34m\u001b[0m\u001b[0m\n\u001b[1;32m      5\u001b[0m \u001b[0mB_rech\u001b[0m\u001b[0;34m(\u001b[0m\u001b[0;36m1\u001b[0m\u001b[0;34m,\u001b[0m \u001b[0my0\u001b[0m\u001b[0;34m,\u001b[0m \u001b[0mn\u001b[0m\u001b[0;34m,\u001b[0m \u001b[0mR\u001b[0m\u001b[0;34m)\u001b[0m\u001b[0;34m\u001b[0m\u001b[0;34m\u001b[0m\u001b[0m\n",
      "\u001b[0;31mTypeError\u001b[0m: 'numpy.ndarray' object is not callable"
     ]
    }
   ],
   "source": [
    "B_1A_mess=B_mess(U_1A)\n",
    "B_1A_mess_mean=np.mean(B_1A_mess)\n",
    "B_1A_mess_abw=np.sqrt(np.var(B_1A_mess))\n",
    "B_1A_mess_u=ufloat(B_1A_mess_mean,B_1A_mess_abw)\n",
    "B_rech(1, y0, n, R)\n",
    "\n",
    "B_15A_mess=B_mess(U_15A)\n",
    "B_15A_mess_mean=np.mean(B_15A_mess)\n",
    "B_15A_mess_abw=np.sqrt(np.var(B_15A_mess))\n",
    "B_15A_mess_u=ufloat(B_15A_mess_mean,B_15A_mess_abw)\n",
    "B_rech(2, y0, n, R)\n",
    "\n",
    "B_2A_mess=B_mess(U_2A)\n",
    "B_2A_mess_mean=np.mean(B_2A_mess)\n",
    "B_2A_mess_abw=np.sqrt(np.var(B_2A_mess))\n",
    "B_2A_mess_u=ufloat(B_2A_mess_mean,B_2A_mess_abw)\n",
    "B_rech(2, y0, n, R)"
   ]
  },
  {
   "cell_type": "markdown",
   "id": "96e4e1da-161c-4106-8a62-a8dc190955c8",
   "metadata": {},
   "source": [
    "Dies sind die berechneten Einzelwerte von "
   ]
  },
  {
   "cell_type": "code",
   "execution_count": null,
   "id": "c2c23f92-06e9-45b1-a14d-0b550432c49e",
   "metadata": {},
   "outputs": [],
   "source": [
    "print('Für die gemessene Stromstärke von 1A ergibt sich ein durschnittliches B-Feld mit folgender Stärke:',B_1A_mess_u,'T')"
   ]
  }
 ],
 "metadata": {
  "kernelspec": {
   "display_name": "Python 3 (ipykernel)",
   "language": "python",
   "name": "python3"
  },
  "language_info": {
   "codemirror_mode": {
    "name": "ipython",
    "version": 3
   },
   "file_extension": ".py",
   "mimetype": "text/x-python",
   "name": "python",
   "nbconvert_exporter": "python",
   "pygments_lexer": "ipython3",
   "version": "3.9.6"
  }
 },
 "nbformat": 4,
 "nbformat_minor": 5
}
