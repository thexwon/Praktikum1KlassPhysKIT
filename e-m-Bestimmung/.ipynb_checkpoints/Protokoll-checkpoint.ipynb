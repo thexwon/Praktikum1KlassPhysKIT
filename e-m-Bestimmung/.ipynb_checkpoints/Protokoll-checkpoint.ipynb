{
 "cells": [
  {
   "cell_type": "markdown",
   "id": "c6a99390-b076-4ab9-9858-f08791f8ba93",
   "metadata": {},
   "source": [
    "## Aufgabe 1 $\\frac{e}{m}$-Bestimmung mit dem Fadenstrahlrohr\n",
    "### 1.1 Untersuchung des Feldes eines Helmholtzspulenpaars \n",
    "Bauen Sie vor dem Plexiglaskasten mit Helmholtzspulen und Fadenstrahlrohr die zusätzliche Helmholtzspule mit Meßplatte so auf, dass sich die Meßplatte in der Mittelebene zwischen zwei Spulen befindet. Die Anordnung gleicht der Spulenanordnung, in der sich das Fadenstrahlrohr befindet. Die Spulen beiderseits der Meßplatte sind in Reihe zu schalten. Die Anschlüsse der betreffenden Spule im Plexiglaskasten sind an extra Buchsen herausgeführt. Die Meßplatte\n",
    "kann an etlichen vorgesehenen Stellen die Hallsonde aufnehmen.\\\n",
    "Bild dieses Aufbaus:\\\n",
    "![](Helmholtz-Spulenpaar.jpg)  \\\n",
    "Messen Sie die Hallspannungen an den vorgesehenen Stellen für die Spulenströme $1.0$; $1.5$; und $2.0 A$."
   ]
  },
  {
   "cell_type": "code",
   "execution_count": 1,
   "id": "b24922a5-ced1-4d20-8ada-d7f652beaac0",
   "metadata": {},
   "outputs": [
    {
     "name": "stdout",
     "output_type": "stream",
     "text": [
      "Welcome to JupyROOT 6.24/06\n"
     ]
    }
   ],
   "source": [
    "import numpy as np\n",
    "from matplotlib import pyplot as plt\n",
    "from kafe2 import  XYContainer, Fit, XYFit, Plot, ContoursProfiler                            \n",
    "import PhyPraKit as ppk\n",
    "from scipy.signal import find_peaks\n",
    "from uncertainties import ufloat, unumpy"
   ]
  },
  {
   "cell_type": "code",
   "execution_count": 2,
   "id": "1e12382f-a8ce-4fc3-ba01-62eb38401181",
   "metadata": {},
   "outputs": [
    {
     "name": "stdout",
     "output_type": "stream",
     "text": [
      "gemessene Hallspannungen bei einem Spulenstrom von 1A: [5.  7.5 3. ] in V\n",
      "gemessene Hallspannungen bei einem Spulenstrom von 1.5A: [ 7.     9.715 11.72 ] in V\n",
      "gemessene Hallspannungen bei einem Spulenstrom von 2A: [ 4.  5. 89.] in V\n"
     ]
    }
   ],
   "source": [
    "data=np.loadtxt('1.1hallspannungen_ströme.txt', skiprows=3) #importiere Daten\n",
    "U_1A=data[:,0]\n",
    "U_15A=data[:,1]\n",
    "U_2A=data[:,2]\n",
    "print('gemessene Hallspannungen bei einem Spulenstrom von 1A:', U_1A, 'in V')\n",
    "print('gemessene Hallspannungen bei einem Spulenstrom von 1.5A:', U_15A, 'in V')\n",
    "print('gemessene Hallspannungen bei einem Spulenstrom von 2A:', U_2A, 'in V')"
   ]
  },
  {
   "cell_type": "markdown",
   "id": "15f6533f-cf9b-4ee3-b1a8-880685b6b61b",
   "metadata": {},
   "source": [
    "### 1.2 Kalibrieren Sie die Hallsonde mit Hilfe des berechenbaren Feldes der langen Eichspule\n",
    "Messen Sie etwa 10 Wertepaare (Hallspannung/Spulenstrom) und berechnen Sie daraus die Eichgerade B(UHall). Der Bereich der hier gemessenen Hallspannungen sollte zu den bei Aufgabe 1.1 gemessenen Werten passen."
   ]
  },
  {
   "cell_type": "code",
   "execution_count": 3,
   "id": "2523973a-15fb-4455-93a6-f7c2bc62a7ac",
   "metadata": {},
   "outputs": [
    {
     "name": "stdout",
     "output_type": "stream",
     "text": [
      "angelegter Spulenstrom: [1.  1.5 2. ] in A\n",
      "gemessene Hallspannung: [3.5 6.7 7.9] in V\n"
     ]
    }
   ],
   "source": [
    "data=np.loadtxt('1.2hallspannungen_ströme.txt', skiprows=3) #importiere gemessene Daten\n",
    "U_hall=data[:,1]\n",
    "I_sp=data[:,0]\n",
    "print('angelegter Spulenstrom:',I_sp, 'in A')\n",
    "print('gemessene Hallspannung:',U_hall, 'in V')"
   ]
  },
  {
   "cell_type": "markdown",
   "id": "1865a6fa-c518-4606-8c29-e423255807f0",
   "metadata": {},
   "source": [
    "$B_{UHall}$ berechnen mit folgender Formel: $B_{UHall}=\\frac{\\mu_{0} \\cdot I\\cdot N}{L}$ \\\n",
    "Wobei N die Anzahl der Windungen, L die Länge der Spule und $\\mu_{0}$ die magnetische Feldkonstante mit einem Wert von $\\mu_{0}=1.256637 \\cdot 10^{-6} \\frac{N}{A^2}$ ist."
   ]
  },
  {
   "cell_type": "code",
   "execution_count": 17,
   "id": "dacfbc96-55a3-4e89-914c-82e977753048",
   "metadata": {},
   "outputs": [
    {
     "name": "stdout",
     "output_type": "stream",
     "text": [
      "[3.5 6.7 7.9] [2.79252667e-05 4.18879000e-05 5.58505333e-05]\n"
     ]
    }
   ],
   "source": [
    "y0=1.256637*10**(-6)\n",
    "L= 0.9\n",
    "N=20\n",
    "Bhall=(y0*I_sp*N)/L\n",
    "print(U_hall,Bhall)\n"
   ]
  },
  {
   "cell_type": "code",
   "execution_count": 25,
   "id": "b6cc0d83-0482-449f-a3a0-9ce0b0bdf354",
   "metadata": {},
   "outputs": [
    {
     "name": "stderr",
     "output_type": "stream",
     "text": [
      "/opt/conda/lib/python3.9/site-packages/kafe2/fit/_base/fit.py:1129: UserWarning: Could not assign all latex names to a parameter.Leftover: {'a': 'A', 'b': 'B'}\n",
      "  warnings.warn(\"Could not assign all latex names to a parameter.\"\n",
      "/opt/conda/lib/python3.9/site-packages/kafe2/fit/_base/fit.py:1034: UserWarning: Cost function expects errors but no errors were specified.\n",
      "  warnings.warn(\"Cost function expects errors but no errors were specified.\")\n",
      "/opt/conda/lib/python3.9/site-packages/kafe2/fit/util/__init__.py:73: RuntimeWarning: divide by zero encountered in log\n",
      "  return 2.0 * np.sum(np.log(pointwise_error))\n",
      "/opt/conda/lib/python3.9/site-packages/kafe2/fit/util/__init__.py:54: UserWarning: Singular covariance matrix. Are the errors for some data points equal to zero?\n",
      "  warnings.warn(\n",
      "/opt/conda/lib/python3.9/site-packages/kafe2/fit/_base/cost.py:330: UserWarning: Setting all data errors to 1 as a fallback.\n",
      "  warnings.warn(\"Setting all data errors to 1 as a fallback.\")\n",
      "/opt/conda/lib/python3.9/site-packages/kafe2/fit/util/__init__.py:54: UserWarning: Singular covariance matrix. Are the errors for some data points equal to zero?\n",
      "  warnings.warn(\n",
      "/opt/conda/lib/python3.9/site-packages/kafe2/fit/_base/cost.py:330: UserWarning: Setting all data errors to 1 as a fallback.\n",
      "  warnings.warn(\"Setting all data errors to 1 as a fallback.\")\n"
     ]
    },
    {
     "name": "stdout",
     "output_type": "stream",
     "text": [
      "Warning: the cost function has been evaluated as infinite. The fit might not converge correctly.\n",
      "########\n",
      "# Data #\n",
      "########\n",
      "\n",
      "    X Data\n",
      "    ======\n",
      "    3.5   \n",
      "    6.7   \n",
      "    7.9   \n",
      "\n",
      "    Y Data   \n",
      "    =========\n",
      "    2.793e-05\n",
      "    4.189e-05\n",
      "    5.585e-05\n",
      "\n",
      "#########\n",
      "# Model #\n",
      "#########\n",
      "\n",
      "    Model Function\n",
      "    ==============\n",
      "\n",
      "        eichen(U_hall; A, B)\n",
      "\n",
      "    X Model\n",
      "    =======\n",
      "    3.5    \n",
      "    6.7    \n",
      "    7.9    \n",
      "\n",
      "    Y Model\n",
      "    =======\n",
      "    0.7245 \n",
      "    0.7469 \n",
      "    0.7553 \n",
      "\n",
      "###############\n",
      "# Fit Results #\n",
      "###############\n",
      "\n",
      "    Model Parameters\n",
      "    ================\n",
      "\n",
      "        A = 0.007\n",
      "        B = 0.7\n",
      "\n",
      "    Cost Function\n",
      "    =============\n",
      "\n",
      "        Cost function: chi-square (with covariance matrix)\n",
      "\n",
      "        Cost = -inf\n",
      "\n"
     ]
    },
    {
     "data": {
      "image/png": "[encoded data removed]",
      "text/plain": [
       "<Figure size 1200x500 with 2 Axes>"
      ]
     },
     "metadata": {},
     "output_type": "display_data"
    }
   ],
   "source": [
    "def eichen(U_hall, A=0.007, B=0.7):\n",
    "    return U_hall*A+B\n",
    "\n",
    "xy_data = XYContainer(x_data=U_hall,y_data=Bhall)\n",
    "xy_data.add_error(axis='x', err_val=0.0125)\n",
    "\n",
    "\n",
    "fit = XYFit(xy_data = [U_hall, Bhall], model_function = eichen)\n",
    "fit.model_label = 'eichen'\n",
    "fit.assign_parameter_latex_names(a='A', b='B')\n",
    "fit.assign_model_function_latex_expression(\"y=U_Hall*A+B\")\n",
    "# Perform the fit:\n",
    "fit.do_fit()\n",
    "\n",
    "# Report and plot results:\n",
    "fit.report()\n",
    "\n",
    "plot = Plot(fit)\n",
    "plot.plot()\n",
    "#p.x_label = 'Zeit (s)'\n",
    "#p.y_label = 'Beschleunigung ($m/{s^{2}}$)'\n",
    "#p.plot()\n",
    "\n",
    "plt.show()"
   ]
  },
  {
   "cell_type": "markdown",
   "id": "7725b8fc-4e8e-429e-9655-ebfa5f299fc1",
   "metadata": {},
   "source": []
  },
  {
   "cell_type": "code",
   "execution_count": null,
   "id": "52dc0e4c-249c-4447-9c15-5d684fd296be",
   "metadata": {},
   "outputs": [],
   "source": []
  },
  {
   "cell_type": "code",
   "execution_count": null,
   "id": "36a1b011-de66-4dde-b336-de161043e82e",
   "metadata": {},
   "outputs": [],
   "source": []
  },
  {
   "cell_type": "code",
   "execution_count": null,
   "id": "6a63e9ac-1d4b-464a-9e74-796cf2a040ea",
   "metadata": {},
   "outputs": [],
   "source": []
  },
  {
   "cell_type": "code",
   "execution_count": null,
   "id": "c2c23f92-06e9-45b1-a14d-0b550432c49e",
   "metadata": {},
   "outputs": [],
   "source": []
  }
 ],
 "metadata": {
  "kernelspec": {
   "display_name": "Python 3 (ipykernel)",
   "language": "python",
   "name": "python3"
  },
  "language_info": {
   "codemirror_mode": {
    "name": "ipython",
    "version": 3
   },
   "file_extension": ".py",
   "mimetype": "text/x-python",
   "name": "python",
   "nbconvert_exporter": "python",
   "pygments_lexer": "ipython3",
   "version": "3.9.6"
  }
 },
 "nbformat": 4,
 "nbformat_minor": 5
}
