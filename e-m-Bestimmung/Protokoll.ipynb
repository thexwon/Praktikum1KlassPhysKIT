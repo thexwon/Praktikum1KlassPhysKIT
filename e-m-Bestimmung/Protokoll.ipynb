{
 "cells": [
  {
   "cell_type": "markdown",
   "id": "c6a99390-b076-4ab9-9858-f08791f8ba93",
   "metadata": {},
   "source": [
    "## Aufgabe 1 $\\frac{e}{m}$-Bestimmung mit dem Fadenstrahlrohr\n",
    "### 1.1 Untersuchung des Feldes eines Helmholtzspulenpaars \n",
    "Bauen Sie vor dem Plexiglaskasten mit Helmholtzspulen und Fadenstrahlrohr die zusätzliche Helmholtzspule mit Meßplatte so auf, dass sich die Meßplatte in der Mittelebene zwischen zwei Spulen befindet. Die Anordnung gleicht der Spulenanordnung, in der sich das Fadenstrahlrohr befindet. Die Spulen beiderseits der Meßplatte sind in Reihe zu schalten. Die Anschlüsse der betreffenden Spule im Plexiglaskasten sind an extra Buchsen herausgeführt. Die Meßplatte\n",
    "kann an etlichen vorgesehenen Stellen die Hallsonde aufnehmen.\\\n",
    "Bild dieses Aufbaus:\\\n",
    "![](Helmholtz-Spulenpaar.jpg)  \\\n",
    "Messen Sie die Hallspannungen an den vorgesehenen Stellen für die Spulenströme $1.0$; $1.5$; und $2.0 A$."
   ]
  },
  {
   "cell_type": "code",
   "execution_count": 1,
   "id": "b24922a5-ced1-4d20-8ada-d7f652beaac0",
   "metadata": {},
   "outputs": [
    {
     "name": "stdout",
     "output_type": "stream",
     "text": [
      "Welcome to JupyROOT 6.24/06\n"
     ]
    }
   ],
   "source": [
    "import numpy as np\n",
    "from matplotlib import pyplot as plt\n",
    "from kafe2 import  XYContainer, Fit, XYFit, Plot, ContoursProfiler                            \n",
    "import PhyPraKit as ppk\n",
    "from scipy.signal import find_peaks\n",
    "from uncertainties import ufloat, unumpy\n",
    "from math import log10, floor\n",
    "import scipy.integrate as integrate"
   ]
  },
  {
   "cell_type": "code",
   "execution_count": 2,
   "id": "1e12382f-a8ce-4fc3-ba01-62eb38401181",
   "metadata": {},
   "outputs": [
    {
     "name": "stdout",
     "output_type": "stream",
     "text": [
      "gemessene Hallspannungen bei einem Spulenstrom von 0.978A: [0.02344 0.0255  0.02587 0.02587 0.02606 0.02606 0.02512 0.02119 0.02587\n",
      " 0.02662 0.02681 0.02681] in V\n",
      "gemessene Hallspannungen bei einem Spulenstrom von 1.504A: [0.03731 0.04013 0.04106 0.04125 0.04125 0.04106 0.03919 0.03338 0.0405\n",
      " 0.04163 0.042   0.04144] in V\n",
      "gemessene Hallspannungen bei einem Spulenstrom von 2.014A: [0.0495  0.05325 0.05456 0.05494 0.05494 0.05496 0.05194 0.04406 0.05381\n",
      " 0.05494 0.05438 0.05381] in V\n"
     ]
    }
   ],
   "source": [
    "data=np.loadtxt('1.1hallspannungen_ströme.txt', skiprows=4) #importiere Daten\n",
    "U_1A=data[:,0]*10**(-3)\n",
    "U_15A=data[:,1]*10**(-3)\n",
    "U_2A=data[:,2]*10**(-3)\n",
    "print('gemessene Hallspannungen bei einem Spulenstrom von 0.978A:', U_1A, 'in V')\n",
    "print('gemessene Hallspannungen bei einem Spulenstrom von 1.504A:', U_15A, 'in V')\n",
    "print('gemessene Hallspannungen bei einem Spulenstrom von 2.014A:', U_2A, 'in V')"
   ]
  },
  {
   "cell_type": "markdown",
   "id": "15f6533f-cf9b-4ee3-b1a8-880685b6b61b",
   "metadata": {},
   "source": [
    "### 1.2 Kalibrieren Sie die Hallsonde mit Hilfe des berechenbaren Feldes der langen Eichspule\n",
    "Messen Sie etwa 10 Wertepaare (Hallspannung/Spulenstrom) und berechnen Sie daraus die Eichgerade B(UHall). Der Bereich der hier gemessenen Hallspannungen sollte zu den bei Aufgabe 1.1 gemessenen Werten passen."
   ]
  },
  {
   "cell_type": "code",
   "execution_count": 3,
   "id": "2523973a-15fb-4455-93a6-f7c2bc62a7ac",
   "metadata": {},
   "outputs": [
    {
     "name": "stdout",
     "output_type": "stream",
     "text": [
      "angelegter Spulenstrom: [0.103 0.164 0.211 0.291 0.355 0.498 0.598 0.745 0.881 0.928] in A\n",
      "gemessene Hallspannung: [0.01106 0.01706 0.02175 0.03    0.03656 0.05006 0.06075 0.075   0.08944\n",
      " 0.09356] in V\n"
     ]
    }
   ],
   "source": [
    "data=np.loadtxt('1.2hallspannungen_ströme.txt', skiprows=7) #importiere gemessene Daten\n",
    "U_hall=data[:,1]*10**(-3)\n",
    "I_sp=data[:,0]\n",
    "print('angelegter Spulenstrom:',I_sp, 'in A')\n",
    "print('gemessene Hallspannung:',U_hall, 'in V')\n"
   ]
  },
  {
   "cell_type": "markdown",
   "id": "1865a6fa-c518-4606-8c29-e423255807f0",
   "metadata": {},
   "source": [
    "$B_{UHall}$ berechnen mit folgender Formel: $B_{UHall}=\\frac{\\mu_{0} \\cdot I\\cdot N}{L}$ \\\n",
    "Wobei N die Anzahl der Windungen, L die Länge der Spule und $\\mu_{0}$ die magnetische Feldkonstante mit einem Wert von $\\mu_{0}=1.256637 \\cdot 10^{-6} \\frac{N}{A^2}$ ist."
   ]
  },
  {
   "cell_type": "code",
   "execution_count": 4,
   "id": "dacfbc96-55a3-4e89-914c-82e977753048",
   "metadata": {},
   "outputs": [
    {
     "name": "stdout",
     "output_type": "stream",
     "text": [
      "[0.01106 0.01706 0.02175 0.03    0.03656 0.05006 0.06075 0.075   0.08944\n",
      " 0.09356] [0.00032358 0.00051522 0.00066288 0.0009142  0.00111527 0.00156451\n",
      " 0.00187867 0.00234049 0.00276774 0.0029154 ]\n"
     ]
    }
   ],
   "source": [
    "y0=1.256637*10**(-6)\n",
    "L= 0.3\n",
    "N=750\n",
    "B_hall=(y0*I_sp*N)/L\n",
    "print(U_hall,B_hall)\n",
    "#indexes = [0, 6, 7] # Entfernen 0,6,7 für experimentelle bestimmung\n",
    "#B_hall = np.delete(B_hall, indexes)\n",
    "#U_hall = np.delete(U_hall, indexes)\n",
    "#print(B_hall)\n",
    "#print(U_hall)"
   ]
  },
  {
   "cell_type": "code",
   "execution_count": 5,
   "id": "a60548e4-5be0-4bfa-8889-d2ebc7a4f621",
   "metadata": {},
   "outputs": [
    {
     "name": "stdout",
     "output_type": "stream",
     "text": [
      "########\n",
      "# Data #\n",
      "########\n",
      "\n",
      "    X Data \n",
      "    =======\n",
      "    0.01106\n",
      "    0.01706\n",
      "    0.02175\n",
      "    0.03   \n",
      "    0.03656\n",
      "    0.05006\n",
      "    0.06075\n",
      "    0.075  \n",
      "    0.08944\n",
      "    0.09356\n",
      "\n",
      "    Y Data   \n",
      "    =========\n",
      "    0.0003236\n",
      "    0.0005152\n",
      "    0.0006629\n",
      "    0.0009142\n",
      "    0.001115 \n",
      "    0.001565 \n",
      "    0.001879 \n",
      "    0.00234  \n",
      "    0.002768 \n",
      "    0.002915 \n",
      "\n",
      "#########\n",
      "# Model #\n",
      "#########\n",
      "\n",
      "    Model Function\n",
      "    ==============\n",
      "\n",
      "        linear_model(U_H; a, B_0) = a * U_H + B_0\n",
      "\n",
      "    X Model\n",
      "    =======\n",
      "    0.01106\n",
      "    0.01706\n",
      "    0.02175\n",
      "    0.03   \n",
      "    0.03656\n",
      "    0.05006\n",
      "    0.06075\n",
      "    0.075  \n",
      "    0.08944\n",
      "    0.09356\n",
      "\n",
      "    Y Model  \n",
      "    =========\n",
      "    0.0003255\n",
      "    0.0005135\n",
      "    0.0006606\n",
      "    0.0009192\n",
      "    0.001125 \n",
      "    0.001548 \n",
      "    0.001883 \n",
      "    0.00233  \n",
      "    0.002782 \n",
      "    0.002911 \n",
      "\n",
      "###############\n",
      "# Fit Results #\n",
      "###############\n",
      "\n",
      "    Model Parameters\n",
      "    ================\n",
      "\n",
      "        a = 0.031\n",
      "        B_0 = -2.1e-05\n",
      "\n",
      "    Cost Function\n",
      "    =============\n",
      "\n",
      "        Cost function: chi-square (no uncertainties)\n",
      "\n",
      "        Cost = 7.648e-10\n",
      "\n"
     ]
    },
    {
     "name": "stderr",
     "output_type": "stream",
     "text": [
      "/opt/conda/lib/python3.9/site-packages/kafe2/fit/_base/fit.py:1036: UserWarning: No data/model errors were specified. Parameter errors cannot be calculated.\n",
      "  warnings.warn(\n"
     ]
    },
    {
     "data": {
      "image/png": "[encoded data removed]",
      "text/plain": [
       "<Figure size 432x288 with 2 Axes>"
      ]
     },
     "metadata": {
      "needs_background": "light"
     },
     "output_type": "display_data"
    }
   ],
   "source": [
    "xy_data = XYContainer(U_hall,B_hall)\n",
    "\n",
    "line_fit=Fit(data=xy_data)\n",
    "line_fit.do_fit()\n",
    "line_fit.assign_parameter_names(x='U_H', a='a', b='B_0')\n",
    "line_fit.assign_model_function_expression('B')\n",
    "line_fit.assign_model_function_expression(\"{a} * {x} + {b}\")\n",
    "line_fit.report()\n",
    "\n",
    "line_fit.assign_parameter_latex_names(x='U_H', a='a', b='B_0')\n",
    "line_fit.assign_model_function_latex_name('B')\n",
    "line_fit.assign_model_function_latex_expression('{a} \\\\cdot {x} + {b}')\n",
    "\n",
    "\n",
    "line_fit.data_container.label = \"Verwendete Daten\"\n",
    "line_fit.model_label = \"Modellfunktion\"\n",
    "\n",
    "line_fit.data_container.axis_labels = [\"U_H in V\", \"B in T\"]\n",
    "\n",
    "plot = Plot(fit_objects=line_fit)\n",
    "plot.plot()\n",
    "plot.show()\n",
    "plot.save('1.png')"
   ]
  },
  {
   "cell_type": "code",
   "execution_count": 6,
   "id": "6dd64d91-0796-44e0-971c-f159207a4e27",
   "metadata": {},
   "outputs": [
    {
     "name": "stdout",
     "output_type": "stream",
     "text": [
      "Damit ergibt sich für die Eichgerade: B_hall(U)= -2.1e-05 + 0.031 * U\n"
     ]
    }
   ],
   "source": [
    "B0=-2.1*10**(-5)\n",
    "B1=0.031\n",
    "def round_sig(x, sig=2):\n",
    "    return round(x, sig-int(floor(log10(abs(x))))-1)\n",
    "def B_hall(U, B0=-1.9*10**(-5), B1=0.031):\n",
    "    return B0 + B1*U\n",
    "print('Damit ergibt sich für die Eichgerade: B_hall(U)=',round_sig(B0,4),'+',round_sig(B1,4),'* U')"
   ]
  },
  {
   "cell_type": "markdown",
   "id": "f8cd70df-53bf-4d0d-8ee4-0a7e5e8bcd94",
   "metadata": {},
   "source": [
    "### 1.3 Vergleichen Sie den gemessenen Wert des Mittenfeldes zwischen den Helmholtzspulen mit dem berechneten Wert. Überprüfen Sie die Feldhomogenität bei der vorliegenden Spulenanordnung. \n",
    "Unter der Voraussetzung Spulenradius = Spulenabstand = R gilt für das Mittenfeld $$B=0.7155\\cdot \\mu_{0} \\cdot n \\cdot \\frac{I}{R}$$\n",
    "Dabei ist n die Windungszahl der Spule und I der Strom in der Spule."
   ]
  },
  {
   "cell_type": "code",
   "execution_count": 7,
   "id": "52dc0e4c-249c-4447-9c15-5d684fd296be",
   "metadata": {},
   "outputs": [],
   "source": [
    "B_mess=B_hall\n",
    "y0=1.256637*(10**(-6))\n",
    "n=130\n",
    "R=0.15\n",
    "def B_rech(I, y0, n, R):\n",
    "    return 0.7155*y0*n*I/R\n"
   ]
  },
  {
   "cell_type": "code",
   "execution_count": 8,
   "id": "36a1b011-de66-4dde-b336-de161043e82e",
   "metadata": {},
   "outputs": [
    {
     "name": "stdout",
     "output_type": "stream",
     "text": [
      "Für die gemessene Stromstärke von 1A ergibt sich ein durschnittliches B-Feld mit folgender Stärke: 0.000792+/-0.000014  T aus den Berechnungen ergibt sich: 0.0007792406037 T\n",
      "Für die gemessene Stromstärke von 15A ergibt sich ein durschnittliches B-Feld mit folgender Stärke: 0.001257+/-0.000016  T aus den Berechnungen ergibt sich: 0.00116886090555 T\n",
      "Für die gemessene Stromstärke von 2A ergibt sich ein durschnittliches B-Feld mit folgender Stärke: 0.001667+/-0.000019  T aus den Berechnungen ergibt sich: 0.0015584812074 T\n"
     ]
    }
   ],
   "source": [
    "indexes = [0, 6, 7] # Entfernen 0,6,7 für experimentelle bestimmung\n",
    "B_1A_mess=B_mess(U_1A)\n",
    "B_1A_mess = np.delete(B_1A_mess, indexes)\n",
    "B_1A_mess_mean=np.mean(B_1A_mess)\n",
    "B_1A_mess_abw=np.sqrt(np.var(B_1A_mess))\n",
    "B_1A_mess_u=ufloat(B_1A_mess_mean,B_1A_mess_abw)\n",
    "B_rech(1, y0, n, R)\n",
    "print('Für die gemessene Stromstärke von 1A ergibt sich ein durschnittliches B-Feld mit folgender Stärke:',B_1A_mess_u,' T aus den Berechnungen ergibt sich:',B_rech(1, y0, n, R),'T') \n",
    "\n",
    "B_15A_mess=B_mess(U_15A)\n",
    "B_15A_mess = np.delete(B_15A_mess, indexes)\n",
    "B_15A_mess_mean=np.mean(B_15A_mess)\n",
    "B_15A_mess_abw=np.sqrt(np.var(B_15A_mess))\n",
    "B_15A_mess_u=ufloat(B_15A_mess_mean,B_15A_mess_abw)\n",
    "B_rech(1.5, y0, n, R)\n",
    "print('Für die gemessene Stromstärke von 15A ergibt sich ein durschnittliches B-Feld mit folgender Stärke:',B_15A_mess_u,' T aus den Berechnungen ergibt sich:',B_rech(1.5, y0, n, R),'T')\n",
    "\n",
    "B_2A_mess=B_mess(U_2A)\n",
    "B_2A_mess = np.delete(B_2A_mess, indexes)\n",
    "B_2A_mess_mean=np.mean(B_2A_mess)\n",
    "B_2A_mess_abw=np.sqrt(np.var(B_2A_mess))\n",
    "B_2A_mess_u=ufloat(B_2A_mess_mean,B_2A_mess_abw)\n",
    "B_rech(2, y0, n, R)\n",
    "print('Für die gemessene Stromstärke von 2A ergibt sich ein durschnittliches B-Feld mit folgender Stärke:',B_2A_mess_u,' T aus den Berechnungen ergibt sich:',B_rech(2, y0, n, R),'T')"
   ]
  },
  {
   "cell_type": "markdown",
   "id": "35e337f5-cacd-4faa-99c2-cc2ad13cac15",
   "metadata": {},
   "source": [
    "### 1.4"
   ]
  },
  {
   "cell_type": "code",
   "execution_count": 15,
   "id": "7623b5e2-68bf-4fbc-a59a-808e23ee50ab",
   "metadata": {},
   "outputs": [
    {
     "data": {
      "image/png": "[encoded data removed]",
      "text/plain": [
       "<Figure size 640x480 with 1 Axes>"
      ]
     },
     "metadata": {},
     "output_type": "display_data"
    }
   ],
   "source": [
    "data=np.loadtxt('1.4a).txt', skiprows=3) #importiere gemessene Daten\n",
    "U_1A=data[:,0]\n",
    "R_1A=data[:,1]*10**(-2)\n",
    "U_2A=data[:,2]\n",
    "R_2A=data[:,3]*10**(-2)\n",
    "\n",
    "plt.plot(U_1A, R_1A, c='red', lw=1, label='I=1A')\n",
    "plt.plot(U_2A, R_2A, c='blue', lw=2, label='I=2A' )\n",
    "plt.xlabel('U in V')\n",
    "plt.ylabel('R in m')\n",
    "plt.legend()\n",
    "\n",
    "plt.savefig('14a.png')\n",
    "plt.show()"
   ]
  },
  {
   "cell_type": "code",
   "execution_count": 14,
   "id": "7ccdcd67-cb56-4d54-8a27-b5a69c30d701",
   "metadata": {},
   "outputs": [
    {
     "data": {
      "image/png": "[encoded data removed]",
      "text/plain": [
       "<Figure size 640x480 with 1 Axes>"
      ]
     },
     "metadata": {},
     "output_type": "display_data"
    }
   ],
   "source": [
    "data=np.loadtxt('1.4b).txt', skiprows=3) #importiere gemessene Daten\n",
    "I_160V=data[:,0]\n",
    "R_160V=data[:,1]*10**(-2)\n",
    "I_250V=data[:,2]\n",
    "R_250V=data[:,3]*10**(-2)\n",
    "\n",
    "plt.plot(I_160V, R_160V, c='red', lw=1, label='U=160V')\n",
    "plt.plot(I_250V, R_250V, c='blue', lw=2, label='U=250V' )\n",
    "plt.xlabel('I in A')\n",
    "plt.ylabel('R in m')\n",
    "plt.legend()\n",
    "plt.savefig('14b.png')\n",
    "plt.show()\n"
   ]
  },
  {
   "cell_type": "code",
   "execution_count": null,
   "id": "2d262222-d95c-4b4c-8da6-d0b9c98b8e03",
   "metadata": {},
   "outputs": [],
   "source": [
    "dataUI2 = U_1A/1**2\n",
    "dataR = R_1A\n",
    "\n",
    "dataUI2 =np.append(dataUI2,U_2A/2**2,axis=0)\n",
    "dataUI2 =np.append(dataUI2,160/I_160V**2,axis=0)\n",
    "dataUI2 =np.append(dataUI2,250/I_250V**2,axis=0)\n",
    "\n",
    "dataR =np.append(dataR,R_2A,axis=0)\n",
    "dataR =np.append(dataR,R_160V,axis=0)\n",
    "dataR =np.append(dataR,R_250V,axis=0)\n",
    "c = 0.7155 * y0 * n/R\n",
    "dataR = c**2/2*dataR**2\n",
    "\n",
    "def lin(x,a=10**10,b=0):\n",
    "    return a*x +b\n",
    "\n",
    "xy_data = XYContainer(dataR,dataUI2)\n",
    "\n",
    "line_fit=Fit(data=xy_data,model_function=lin)\n",
    "line_fit.do_fit()\n",
    "#line_fit.assign_parameter_names(x='r', a='a', b='U/I^2')\n",
    "line_fit.assign_model_function_expression('B')\n",
    "line_fit.assign_model_function_expression(\"{a} * {x} \")\n",
    "line_fit.report()\n",
    "\n",
    "#line_fit.assign_parameter_latex_names(x='r', a='a', b='\\frac{U}{I^2}')\n",
    "#line_fit.assign_model_function_latex_name('\\frac{U}{I^2}')\n",
    "#line_fit.assign_model_function_latex_expression('{a} \\\\cdot {x}')\n",
    "\n",
    "\n",
    "line_fit.data_container.label = \"Verwendete Daten\"\n",
    "line_fit.model_label = \"Modellfunktion\"\n",
    "\n",
    "line_fit.data_container.axis_labels = [ \"c^2/2*r^2 in N*m/A^2\",\"U/I^2 in V/A^2\"]\n",
    "\n",
    "plot = Plot(fit_objects=line_fit)\n",
    "plot.plot()\n",
    "plot.show()\n",
    "plot.save()"
   ]
  },
  {
   "cell_type": "markdown",
   "id": "f725e00e-7253-4de0-9c77-ea3d4756c044",
   "metadata": {},
   "source": [
    "## Aufgabe 2.2"
   ]
  },
  {
   "cell_type": "code",
   "execution_count": null,
   "id": "a2d306d0-96b4-4570-a4ca-dded57359abf",
   "metadata": {},
   "outputs": [],
   "source": [
    "data=np.loadtxt('2.2.txt', skiprows=3) #importiere gemessene Daten\n",
    "U=data[:,0]\n",
    "I=data[:,1]\n",
    "a0=0.08\n",
    "a1=0.15\n",
    "L=0.2\n",
    "R=0.045\n",
    "p=0.070\n",
    "y0=1.256637*10**(-6)\n",
    "n=3000\n",
    "B0=y0*I*n/L\n",
    "#K=0.567/(a1-a0)*(((np.sqrt(a1**2+R**2)-(a1**2-2*a1*L+L**2+R**2)/np.sqrt((a1-L)**2+R**2)))-((np.sqrt(a0**2+R**2)-(a0**2-2*a0*L+L**2+R**2)/np.sqrt((a0-L)**2+R**2))))\n",
    "\n",
    "K=0.567/(a1-a0)*(np.sqrt(R**2+a1**2)-np.sqrt(R**2+a0**2)-np.sqrt(R**2+(L-a1)**2)+np.sqrt(R**2+(L-a0)**2))\n",
    "print(K)\n",
    "B=B0*K"
   ]
  },
  {
   "cell_type": "code",
   "execution_count": null,
   "id": "b3ff4492-e0e0-40ca-a3e6-7e18f7599a1f",
   "metadata": {},
   "outputs": [],
   "source": [
    "\n",
    "\n",
    "dataU = U*8*((np.pi)**2)*(L**2)*1/((K**2)*(y0**2)*(n**2)*(p**2))\n",
    "dataI = I**2\n",
    "\n",
    "xy_data = XYContainer(dataI,dataU)\n",
    "def lin(x,a=1.7**11,b=0):\n",
    "    return a*x +b\n",
    "#xy_data.add_error(axis='x', err_val=0.01, relative=True)\n",
    "#xy_data.add_error(axis='y', err_val=0.01, relative=True)\n",
    "line_fit=Fit(data=xy_data,model_function=lin)\n",
    "line_fit.do_fit()\n",
    "\n",
    "#line_fit.assign_parameter_names(x='data', a='a', b='U/I^2')\n",
    "#line_fit.assign_model_function_expression('B')\n",
    "#line_fit.assign_model_function_expression(\"{a} * {x} \")\n",
    "line_fit.report()\n",
    "\n",
    "#line_fit.assign_parameter_latex_names(x='r', a='a', b='\\frac{U}{I^2}')\n",
    "#line_fit.assign_model_function_latex_name('\\frac{U}{I^2}')\n",
    "#line_fit.assign_model_function_latex_expression('{a} \\\\cdot {x}')\n",
    "\n",
    "\n",
    "line_fit.data_container.label = \"Verwendete Daten\"\n",
    "line_fit.model_label = \"Modellfunktion\"\n",
    "\n",
    "line_fit.data_container.axis_labels = [\"U*C in s/(kg * A^3)\", \"I^2 in A\"]\n",
    "\n",
    "plot = Plot(fit_objects=line_fit)\n",
    "plot.plot()\n",
    "plot.show()\n",
    "plot.save('e-mFIT2')"
   ]
  },
  {
   "cell_type": "code",
   "execution_count": null,
   "id": "9ef7f0e1-c23a-470f-882e-3f7e8cc60380",
   "metadata": {},
   "outputs": [],
   "source": []
  }
 ],
 "metadata": {
  "kernelspec": {
   "display_name": "Python 3 (ipykernel)",
   "language": "python",
   "name": "python3"
  },
  "language_info": {
   "codemirror_mode": {
    "name": "ipython",
    "version": 3
   },
   "file_extension": ".py",
   "mimetype": "text/x-python",
   "name": "python",
   "nbconvert_exporter": "python",
   "pygments_lexer": "ipython3",
   "version": "3.9.6"
  }
 },
 "nbformat": 4,
 "nbformat_minor": 5
}
