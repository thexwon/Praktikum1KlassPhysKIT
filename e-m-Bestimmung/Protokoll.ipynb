{
 "cells": [
  {
   "cell_type": "markdown",
   "id": "c6a99390-b076-4ab9-9858-f08791f8ba93",
   "metadata": {},
   "source": [
    "## Aufgabe 1 $\\frac{e}{m}$-Bestimmung mit dem Fadenstrahlrohr\n",
    "### 1.1 Untersuchung des Feldes eines Helmholtzspulenpaars \n",
    "Bauen Sie vor dem Plexiglaskasten mit Helmholtzspulen und Fadenstrahlrohr die zusätzliche Helmholtzspule mit Meßplatte so auf, dass sich die Meßplatte in der Mittelebene zwischen zwei Spulen befindet. Die Anordnung gleicht der Spulenanordnung, in der sich das Fadenstrahlrohr befindet. Die Spulen beiderseits der Meßplatte sind in Reihe zu schalten. Die Anschlüsse der betreffenden Spule im Plexiglaskasten sind an extra Buchsen herausgeführt. Die Meßplatte\n",
    "kann an etlichen vorgesehenen Stellen die Hallsonde aufnehmen.\\\n",
    "Bild dieses Aufbaus:\\\n",
    "![](Helmholtz-Spulenpaar.jpg)  \\\n",
    "Messen Sie die Hallspannungen an den vorgesehenen Stellen für die Spulenströme $1.0$; $1.5$; und $2.0 A$."
   ]
  },
  {
   "cell_type": "code",
   "execution_count": 2,
   "id": "b24922a5-ced1-4d20-8ada-d7f652beaac0",
   "metadata": {},
   "outputs": [
    {
     "name": "stdout",
     "output_type": "stream",
     "text": [
      "Welcome to JupyROOT 6.24/06\n"
     ]
    }
   ],
   "source": [
    "import numpy as np\n",
    "from matplotlib import pyplot as plt\n",
    "from kafe2 import  XYContainer, XYFit, Plot,ContoursProfiler"
   ]
  },
  {
   "cell_type": "code",
   "execution_count": 3,
   "id": "1e12382f-a8ce-4fc3-ba01-62eb38401181",
   "metadata": {},
   "outputs": [
    {
     "name": "stdout",
     "output_type": "stream",
     "text": [
      "[1.  1.5 2. ]\n",
      "[ 9.46  9.71 11.72]\n"
     ]
    }
   ],
   "source": [
    "data=np.loadtxt('hallspannungen_ströme.txt', skiprows=2) #importiere Daten\n",
    "I_sp=data[:,0]\n",
    "U_hall=data[:,1]\n",
    "print(I_sp)\n",
    "print(U_hall)"
   ]
  },
  {
   "cell_type": "code",
   "execution_count": null,
   "id": "5067535b-57b1-4cbd-9e62-1c1326258b65",
   "metadata": {},
   "outputs": [],
   "source": [
    "### 1.2 Kalibrieren Sie die Hallsonde mit Hilfe des berechenbaren Feldes der langen Eichspule\n",
    "Messen Sie etwa 10 Wertepaare (Hallspannung/Spulenstrom) und berechnen Sie daraus die Eichgerade B(UHall). Der\n",
    "Bereich der hier gemessenen Hallspannungen sollte zu den bei Aufgabe 1.1 gemessenen Werten passen."
   ]
  }
 ],
 "metadata": {
  "kernelspec": {
   "display_name": "Python 3 (ipykernel)",
   "language": "python",
   "name": "python3"
  },
  "language_info": {
   "codemirror_mode": {
    "name": "ipython",
    "version": 3
   },
   "file_extension": ".py",
   "mimetype": "text/x-python",
   "name": "python",
   "nbconvert_exporter": "python",
   "pygments_lexer": "ipython3",
   "version": "3.9.6"
  }
 },
 "nbformat": 4,
 "nbformat_minor": 5
}
