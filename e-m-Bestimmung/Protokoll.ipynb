{
 "cells": [
  {
   "cell_type": "markdown",
   "id": "c6a99390-b076-4ab9-9858-f08791f8ba93",
   "metadata": {},
   "source": [
    "## Aufgabe 1 $\\frac{e}{m}$-Bestimmung mit dem Fadenstrahlrohr\n",
    "### 1.1 Untersuchung des Feldes eines Helmholtzspulenpaars \n",
    "Bauen Sie vor dem Plexiglaskasten mit Helmholtzspulen und Fadenstrahlrohr die zusätzliche Helmholtzspule mit Meßplatte so auf, dass sich die Meßplatte in der Mittelebene zwischen zwei Spulen befindet. Die Anordnung gleicht der Spulenanordnung, in der sich das Fadenstrahlrohr befindet. Die Spulen beiderseits der Meßplatte sind in Reihe zu schalten. Die Anschlüsse der betreffenden Spule im Plexiglaskasten sind an extra Buchsen herausgeführt. Die Meßplatte\n",
    "kann an etlichen vorgesehenen Stellen die Hallsonde aufnehmen.\\\n",
    "Bild dieses Aufbaus:\\\n",
    "![](Helmholtz-Spulenpaar.jpg)  \\\n",
    "Messen Sie die Hallspannungen an den vorgesehenen Stellen für die Spulenströme $1.0$; $1.5$; und $2.0 A$."
   ]
  },
  {
   "cell_type": "code",
   "execution_count": 1,
   "id": "b24922a5-ced1-4d20-8ada-d7f652beaac0",
   "metadata": {},
   "outputs": [
    {
     "name": "stdout",
     "output_type": "stream",
     "text": [
      "Welcome to JupyROOT 6.24/06\n"
     ]
    }
   ],
   "source": [
    "import numpy as np\n",
    "from matplotlib import pyplot as plt\n",
    "from kafe2 import  XYContainer, Fit, XYFit, Plot, ContoursProfiler                            \n",
    "import PhyPraKit as ppk\n",
    "from scipy.signal import find_peaks\n",
    "from uncertainties import ufloat, unumpy\n",
    "from math import log10, floor"
   ]
  },
  {
   "cell_type": "code",
   "execution_count": 2,
   "id": "1e12382f-a8ce-4fc3-ba01-62eb38401181",
   "metadata": {},
   "outputs": [
    {
     "name": "stdout",
     "output_type": "stream",
     "text": [
      "gemessene Hallspannungen bei einem Spulenstrom von 1A: [0.02344 0.0255  0.02587 0.02587 0.02606 0.02606 0.02512 0.02119 0.02587\n",
      " 0.02662 0.02681 0.02681] in V\n",
      "gemessene Hallspannungen bei einem Spulenstrom von 1.5A: [0.03731 0.04013 0.04106 0.04125 0.04125 0.04106 0.03919 0.03338 0.0405\n",
      " 0.04163 0.042   0.04144] in V\n",
      "gemessene Hallspannungen bei einem Spulenstrom von 2A: [0.0495  0.05325 0.05456 0.05494 0.05494 0.05496 0.05194 0.04406 0.05381\n",
      " 0.05494 0.05438 0.05381] in V\n"
     ]
    }
   ],
   "source": [
    "data=np.loadtxt('1.1hallspannungen_ströme.txt', skiprows=4) #importiere Daten\n",
    "U_1A=data[:,0]*10**(-3)\n",
    "U_15A=data[:,1]*10**(-3)\n",
    "U_2A=data[:,2]*10**(-3)\n",
    "print('gemessene Hallspannungen bei einem Spulenstrom von 1A:', U_1A, 'in V')\n",
    "print('gemessene Hallspannungen bei einem Spulenstrom von 1.5A:', U_15A, 'in V')\n",
    "print('gemessene Hallspannungen bei einem Spulenstrom von 2A:', U_2A, 'in V')"
   ]
  },
  {
   "cell_type": "markdown",
   "id": "15f6533f-cf9b-4ee3-b1a8-880685b6b61b",
   "metadata": {},
   "source": [
    "### 1.2 Kalibrieren Sie die Hallsonde mit Hilfe des berechenbaren Feldes der langen Eichspule\n",
    "Messen Sie etwa 10 Wertepaare (Hallspannung/Spulenstrom) und berechnen Sie daraus die Eichgerade B(UHall). Der Bereich der hier gemessenen Hallspannungen sollte zu den bei Aufgabe 1.1 gemessenen Werten passen."
   ]
  },
  {
   "cell_type": "code",
   "execution_count": 3,
   "id": "2523973a-15fb-4455-93a6-f7c2bc62a7ac",
   "metadata": {},
   "outputs": [
    {
     "name": "stdout",
     "output_type": "stream",
     "text": [
      "angelegter Spulenstrom: [0.103 0.164 0.211 0.291 0.355 0.498 0.598 0.745 0.881 0.928] in A\n",
      "gemessene Hallspannung: [0.01106 0.01706 0.02175 0.03    0.03656 0.05006 0.06075 0.075   0.08944\n",
      " 0.09356] in V\n"
     ]
    }
   ],
   "source": [
    "data=np.loadtxt('1.2hallspannungen_ströme.txt', skiprows=7) #importiere gemessene Daten\n",
    "U_hall=data[:,1]*10**(-3)\n",
    "I_sp=data[:,0]\n",
    "print('angelegter Spulenstrom:',I_sp, 'in A')\n",
    "print('gemessene Hallspannung:',U_hall, 'in V')"
   ]
  },
  {
   "cell_type": "markdown",
   "id": "1865a6fa-c518-4606-8c29-e423255807f0",
   "metadata": {},
   "source": [
    "$B_{UHall}$ berechnen mit folgender Formel: $B_{UHall}=\\frac{\\mu_{0} \\cdot I\\cdot N}{L}$ \\\n",
    "Wobei N die Anzahl der Windungen, L die Länge der Spule und $\\mu_{0}$ die magnetische Feldkonstante mit einem Wert von $\\mu_{0}=1.256637 \\cdot 10^{-6} \\frac{N}{A^2}$ ist."
   ]
  },
  {
   "cell_type": "code",
   "execution_count": 4,
   "id": "dacfbc96-55a3-4e89-914c-82e977753048",
   "metadata": {},
   "outputs": [
    {
     "name": "stdout",
     "output_type": "stream",
     "text": [
      "[0.01106 0.01706 0.02175 0.03    0.03656 0.05006 0.06075 0.075   0.08944\n",
      " 0.09356] [0.00032358 0.00051522 0.00066288 0.0009142  0.00111527 0.00156451\n",
      " 0.00187867 0.00234049 0.00276774 0.0029154 ]\n",
      "[0.00051522 0.00066288 0.0009142  0.00111527 0.00156451 0.00276774\n",
      " 0.0029154 ]\n",
      "[0.01706 0.02175 0.03    0.03656 0.05006 0.08944 0.09356]\n"
     ]
    }
   ],
   "source": [
    "y0=1.256637*10**(-6)\n",
    "L= 0.3\n",
    "N=750\n",
    "B_hall=(y0*I_sp*N)/L\n",
    "print(U_hall,B_hall)\n",
    "#B_hall.pop(0)\n",
    "#B_hall.pop(6) # Entfernen 0,6,7 für experimentelle bestimmung\n",
    "#B_hall.pop(7)\n",
    "indexes = [0, 6, 7]\n",
    "B_hall = np.delete(B_hall, indexes)\n",
    "U_hall = np.delete(U_hall, indexes)\n",
    "print(B_hall)\n",
    "print(U_hall)"
   ]
  },
  {
   "cell_type": "code",
   "execution_count": 5,
   "id": "a60548e4-5be0-4bfa-8889-d2ebc7a4f621",
   "metadata": {},
   "outputs": [
    {
     "name": "stdout",
     "output_type": "stream",
     "text": [
      "########\n",
      "# Data #\n",
      "########\n",
      "\n",
      "    X Data \n",
      "    =======\n",
      "    0.01706\n",
      "    0.02175\n",
      "    0.03   \n",
      "    0.03656\n",
      "    0.05006\n",
      "    0.08944\n",
      "    0.09356\n",
      "\n",
      "    Y Data   \n",
      "    =========\n",
      "    0.0005152\n",
      "    0.0006629\n",
      "    0.0009142\n",
      "    0.001115 \n",
      "    0.001565 \n",
      "    0.002768 \n",
      "    0.002915 \n",
      "\n",
      "#########\n",
      "# Model #\n",
      "#########\n",
      "\n",
      "    Model Function\n",
      "    ==============\n",
      "\n",
      "        linear_model(U; a, b) = a * U + b\n",
      "\n",
      "    X Model\n",
      "    =======\n",
      "    0.01706\n",
      "    0.02175\n",
      "    0.03   \n",
      "    0.03656\n",
      "    0.05006\n",
      "    0.08944\n",
      "    0.09356\n",
      "\n",
      "    Y Model  \n",
      "    =========\n",
      "    0.0005145\n",
      "    0.0006613\n",
      "    0.0009195\n",
      "    0.001125 \n",
      "    0.001547 \n",
      "    0.00278  \n",
      "    0.002908 \n",
      "\n",
      "###############\n",
      "# Fit Results #\n",
      "###############\n",
      "\n",
      "    Model Parameters\n",
      "    ================\n",
      "\n",
      "        a = 0.031\n",
      "        b = -1.9e-05\n",
      "\n",
      "    Cost Function\n",
      "    =============\n",
      "\n",
      "        Cost function: chi-square (no uncertainties)\n",
      "\n",
      "        Cost = 6.072e-10\n",
      "\n"
     ]
    },
    {
     "name": "stderr",
     "output_type": "stream",
     "text": [
      "/opt/conda/lib/python3.9/site-packages/kafe2/fit/_base/fit.py:1036: UserWarning: No data/model errors were specified. Parameter errors cannot be calculated.\n",
      "  warnings.warn(\n"
     ]
    },
    {
     "data": {
      "image/png": "[encoded data removed]",
      "text/plain": [
       "<Figure size 432x288 with 2 Axes>"
      ]
     },
     "metadata": {
      "needs_background": "light"
     },
     "output_type": "display_data"
    }
   ],
   "source": [
    "xy_data = XYContainer(U_hall,B_hall)\n",
    "\n",
    "line_fit=Fit(data=xy_data)\n",
    "line_fit.do_fit()\n",
    "line_fit.assign_parameter_names(x='U', a='a', b='b')\n",
    "line_fit.assign_model_function_expression('B')\n",
    "line_fit.assign_model_function_expression(\"{a} * {x} + {b}\")\n",
    "line_fit.report()\n",
    "\n",
    "line_fit.assign_parameter_latex_names(x='U', a='a', b='b')\n",
    "line_fit.assign_model_function_latex_name('B')\n",
    "line_fit.assign_model_function_latex_expression('{a} \\\\cdot {x} + {b}')\n",
    "\n",
    "\n",
    "line_fit.data_container.label = \"Verwendete Daten\"\n",
    "line_fit.model_label = \"Modellfunktion\"\n",
    "\n",
    "line_fit.data_container.axis_labels = [\"U\", \"B\"]\n",
    "\n",
    "plot = Plot(fit_objects=line_fit)\n",
    "plot.plot()\n",
    "plot.show()\n"
   ]
  },
  {
   "cell_type": "code",
   "execution_count": 6,
   "id": "6dd64d91-0796-44e0-971c-f159207a4e27",
   "metadata": {},
   "outputs": [
    {
     "name": "stdout",
     "output_type": "stream",
     "text": [
      "Damit ergibt sich für die Eichgerade: B_hall(U)= -1.9e-05 + 0.031 * U\n"
     ]
    }
   ],
   "source": [
    "B0=-1.9*10**(-5)\n",
    "B1=0.031\n",
    "def round_sig(x, sig=2):\n",
    "    return round(x, sig-int(floor(log10(abs(x))))-1)\n",
    "def B_hall(U, B0=-1.9*10**(-5), B1=0.031):\n",
    "    return B0 + B1*U\n",
    "print('Damit ergibt sich für die Eichgerade: B_hall(U)=',round_sig(B0,4),'+',round_sig(B1,4),'* U')"
   ]
  },
  {
   "cell_type": "markdown",
   "id": "f8cd70df-53bf-4d0d-8ee4-0a7e5e8bcd94",
   "metadata": {},
   "source": [
    "### 1.3 Vergleichen Sie den gemessenen Wert des Mittenfeldes zwischen den Helmholtzspulen mit dem berechneten Wert. Überprüfen Sie die Feldhomogenität bei der vorliegenden Spulenanordnung. \n",
    "Unter der Voraussetzung Spulenradius = Spulenabstand = R gilt für das Mittenfeld $$B=0.7155\\cdot \\mu_{0} \\cdot n \\cdot \\frac{I}{R}$$\n",
    "Dabei ist n die Windungszahl der Spule und I der Strom in der Spule."
   ]
  },
  {
   "cell_type": "code",
   "execution_count": 7,
   "id": "52dc0e4c-249c-4447-9c15-5d684fd296be",
   "metadata": {},
   "outputs": [],
   "source": [
    "B_mess=B_hall\n",
    "y0=1.256637*10**(-6)\n",
    "n=2\n",
    "R=0.5\n",
    "def B_rech(I, y0, n, R):\n",
    "    return 0.7155*y0*n*I/R\n"
   ]
  },
  {
   "cell_type": "code",
   "execution_count": 11,
   "id": "36a1b011-de66-4dde-b336-de161043e82e",
   "metadata": {},
   "outputs": [
    {
     "name": "stdout",
     "output_type": "stream",
     "text": [
      "Für die gemessene Stromstärke von 1A ergibt sich ein durschnittliches B-Feld mit folgender Stärke: 0.00077+/-0.00005  T aus den Berechnungen ergibt sich: 3.596495094e-06 T\n",
      "Für die gemessene Stromstärke von 15A ergibt sich ein durschnittliches B-Feld mit folgender Stärke: 0.00122+/-0.00007  T aus den Berechnungen ergibt sich: 5.394742641e-06 T\n",
      "Für die gemessene Stromstärke von 2A ergibt sich ein durschnittliches B-Feld mit folgender Stärke: 0.00162+/-0.00010  T aus den Berechnungen ergibt sich: 7.192990188e-06 T\n"
     ]
    }
   ],
   "source": [
    "B_1A_mess=B_mess(U_1A)\n",
    "B_1A_mess_mean=np.mean(B_1A_mess)\n",
    "B_1A_mess_abw=np.sqrt(np.var(B_1A_mess))\n",
    "B_1A_mess_u=ufloat(B_1A_mess_mean,B_1A_mess_abw)\n",
    "B_rech(1, y0, n, R)\n",
    "print('Für die gemessene Stromstärke von 1A ergibt sich ein durschnittliches B-Feld mit folgender Stärke:',B_1A_mess_u,' T aus den Berechnungen ergibt sich:',B_rech(1, y0, n, R),'T') \n",
    "\n",
    "B_15A_mess=B_mess(U_15A)\n",
    "B_15A_mess_mean=np.mean(B_15A_mess)\n",
    "B_15A_mess_abw=np.sqrt(np.var(B_15A_mess))\n",
    "B_15A_mess_u=ufloat(B_15A_mess_mean,B_15A_mess_abw)\n",
    "B_rech(1.5, y0, n, R)\n",
    "print('Für die gemessene Stromstärke von 15A ergibt sich ein durschnittliches B-Feld mit folgender Stärke:',B_15A_mess_u,' T aus den Berechnungen ergibt sich:',B_rech(1.5, y0, n, R),'T')\n",
    "\n",
    "B_2A_mess=B_mess(U_2A)\n",
    "B_2A_mess_mean=np.mean(B_2A_mess)\n",
    "B_2A_mess_abw=np.sqrt(np.var(B_2A_mess))\n",
    "B_2A_mess_u=ufloat(B_2A_mess_mean,B_2A_mess_abw)\n",
    "B_rech(2, y0, n, R)\n",
    "print('Für die gemessene Stromstärke von 2A ergibt sich ein durschnittliches B-Feld mit folgender Stärke:',B_2A_mess_u,' T aus den Berechnungen ergibt sich:',B_rech(2, y0, n, R),'T')"
   ]
  },
  {
   "cell_type": "markdown",
   "id": "35e337f5-cacd-4faa-99c2-cc2ad13cac15",
   "metadata": {},
   "source": [
    "### 1.4"
   ]
  },
  {
   "cell_type": "code",
   "execution_count": null,
   "id": "7623b5e2-68bf-4fbc-a59a-808e23ee50ab",
   "metadata": {},
   "outputs": [],
   "source": [
    "data=np.loadtxt('1.4a).txt', skiprows=3) #importiere gemessene Daten\n",
    "U_1A=data[:,0]\n",
    "R_1A=data[:,1]*10**(-2)\n",
    "U_2A=data[:,2]\n",
    "R_2A=data[:,3]*10**("
   ]
  }
 ],
 "metadata": {
  "kernelspec": {
   "display_name": "Python 3 (ipykernel)",
   "language": "python",
   "name": "python3"
  },
  "language_info": {
   "codemirror_mode": {
    "name": "ipython",
    "version": 3
   },
   "file_extension": ".py",
   "mimetype": "text/x-python",
   "name": "python",
   "nbconvert_exporter": "python",
   "pygments_lexer": "ipython3",
   "version": "3.9.6"
  }
 },
 "nbformat": 4,
 "nbformat_minor": 5
}
