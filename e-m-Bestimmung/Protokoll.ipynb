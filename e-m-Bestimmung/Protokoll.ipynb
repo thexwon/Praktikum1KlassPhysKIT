{
 "cells": [
  {
   "cell_type": "markdown",
   "id": "c6a99390-b076-4ab9-9858-f08791f8ba93",
   "metadata": {},
   "source": [
    "## Aufgabe 1 $\\frac{e}{m}$-Bestimmung mit dem Fadenstrahlrohr\n",
    "### 1.1 Untersuchung des Feldes eines Helmholtzspulenpaars \n",
    "Bauen Sie vor dem Plexiglaskasten mit Helmholtzspulen und Fadenstrahlrohr die zusätzliche Helmholtzspule mit Meßplatte so auf, dass sich die Meßplatte in der Mittelebene zwischen zwei Spulen befindet. Die Anordnung gleicht der Spulenanordnung, in der sich das Fadenstrahlrohr befindet. Die Spulen beiderseits der Meßplatte sind in Reihe zu schalten. Die Anschlüsse der betreffenden Spule im Plexiglaskasten sind an extra Buchsen herausgeführt. Die Meßplatte\n",
    "kann an etlichen vorgesehenen Stellen die Hallsonde aufnehmen.\\\n",
    "Bild dieses Aufbaus:\\\n",
    "![](Helmholtz-Spulenpaar.jpg)  \\\n",
    "Messen Sie die Hallspannungen an den vorgesehenen Stellen für die Spulenströme $1.0$; $1.5$; und $2.0 A$."
   ]
  },
  {
   "cell_type": "code",
   "execution_count": 1,
   "id": "b24922a5-ced1-4d20-8ada-d7f652beaac0",
   "metadata": {},
   "outputs": [
    {
     "name": "stdout",
     "output_type": "stream",
     "text": [
      "Welcome to JupyROOT 6.24/06\n"
     ]
    }
   ],
   "source": [
    "import numpy as np\n",
    "from matplotlib import pyplot as plt\n",
    "from kafe2 import  XYContainer, Fit, Plot, ContoursProfiler                            \n",
    "import PhyPraKit as ppk\n",
    "from scipy.signal import find_peaks\n",
    "from uncertainties import ufloat, unumpy"
   ]
  },
  {
   "cell_type": "code",
   "execution_count": 2,
   "id": "1e12382f-a8ce-4fc3-ba01-62eb38401181",
   "metadata": {},
   "outputs": [
    {
     "name": "stdout",
     "output_type": "stream",
     "text": [
      "gemessene Hallspannungen bei einem Spulenstrom von 1A: [5.  7.5 3. ] in V\n",
      "gemessene Hallspannungen bei einem Spulenstrom von 1.5A: [ 7.     9.715 11.72 ] in V\n",
      "gemessene Hallspannungen bei einem Spulenstrom von 2A: [ 4.  5. 89.] in V\n"
     ]
    }
   ],
   "source": [
    "data=np.loadtxt('1.1hallspannungen_ströme.txt', skiprows=3) #importiere Daten\n",
    "U_1A=data[:,0]\n",
    "U_15A=data[:,1]\n",
    "U_2A=data[:,2]\n",
    "print('gemessene Hallspannungen bei einem Spulenstrom von 1A:', U_1A, 'in V')\n",
    "print('gemessene Hallspannungen bei einem Spulenstrom von 1.5A:', U_15A, 'in V')\n",
    "print('gemessene Hallspannungen bei einem Spulenstrom von 2A:', U_2A, 'in V')"
   ]
  },
  {
   "cell_type": "markdown",
   "id": "15f6533f-cf9b-4ee3-b1a8-880685b6b61b",
   "metadata": {},
   "source": [
    "### 1.2 Kalibrieren Sie die Hallsonde mit Hilfe des berechenbaren Feldes der langen Eichspule\n",
    "Messen Sie etwa 10 Wertepaare (Hallspannung/Spulenstrom) und berechnen Sie daraus die Eichgerade B(UHall). Der Bereich der hier gemessenen Hallspannungen sollte zu den bei Aufgabe 1.1 gemessenen Werten passen."
   ]
  },
  {
   "cell_type": "code",
   "execution_count": 3,
   "id": "2523973a-15fb-4455-93a6-f7c2bc62a7ac",
   "metadata": {},
   "outputs": [
    {
     "name": "stdout",
     "output_type": "stream",
     "text": [
      "angelegter Spulenstrom: [1.  1.5 2. ] in A\n",
      "gemessene Hallspannung: [3.5 6.7 7.9] in V\n"
     ]
    }
   ],
   "source": [
    "data=np.loadtxt('1.2hallspannungen_ströme.txt', skiprows=3) #importiere gemessene Daten\n",
    "U_hall=data[:,1]\n",
    "I_sp=data[:,0]\n",
    "print('angelegter Spulenstrom:',I_sp, 'in A')\n",
    "print('gemessene Hallspannung:',U_hall, 'in V')"
   ]
  },
  {
   "cell_type": "markdown",
   "id": "1865a6fa-c518-4606-8c29-e423255807f0",
   "metadata": {},
   "source": [
    "$B_{UHall}$ berechnen mit folgender Formel: $B_{UHall}=\\frac{\\mu_{0} \\cdot I\\cdot N}{L}$ \\\n",
    "Wobei N die Anzahl der Windungen, L die Länge der Spule und $\\mu_{0}$ die magnetische Feldkonstante mit einem Wert von $\\mu_{0}=1.256637 \\cdot 10^{-6} \\frac{N}{A^2}$ ist."
   ]
  },
  {
   "cell_type": "code",
   "execution_count": 11,
   "id": "dacfbc96-55a3-4e89-914c-82e977753048",
   "metadata": {},
   "outputs": [
    {
     "name": "stdout",
     "output_type": "stream",
     "text": [
      "[3.5 6.7 7.9] [2.79252667e-05 4.18879000e-05 5.58505333e-05]\n"
     ]
    }
   ],
   "source": [
    "y0=1.256637*10**(-6)\n",
    "L= 0.9\n",
    "N=20\n",
    "Bhall=(y0*I_sp*N)/L\n",
    "print(U_hall,Bhall)"
   ]
  },
  {
   "cell_type": "code",
   "execution_count": 15,
   "id": "b6cc0d83-0482-449f-a3a0-9ce0b0bdf354",
   "metadata": {},
   "outputs": [
    {
     "ename": "ValueError",
     "evalue": "x and y must have same first dimension, but have shapes (200,) and (3,)",
     "output_type": "error",
     "traceback": [
      "\u001b[0;31m---------------------------------------------------------------------------\u001b[0m",
      "\u001b[0;31mValueError\u001b[0m                                Traceback (most recent call last)",
      "\u001b[0;32m/tmp/ipykernel_2267/3115706034.py\u001b[0m in \u001b[0;36m<cell line: 20>\u001b[0;34m()\u001b[0m\n\u001b[1;32m     18\u001b[0m \u001b[0mp\u001b[0m\u001b[0;34m.\u001b[0m\u001b[0mx_label\u001b[0m \u001b[0;34m=\u001b[0m \u001b[0;34m'Zeit (s)'\u001b[0m\u001b[0;34m\u001b[0m\u001b[0;34m\u001b[0m\u001b[0m\n\u001b[1;32m     19\u001b[0m \u001b[0mp\u001b[0m\u001b[0;34m.\u001b[0m\u001b[0my_label\u001b[0m \u001b[0;34m=\u001b[0m \u001b[0;34m'Beschleunigung ($m/{s^{2}}$)'\u001b[0m\u001b[0;34m\u001b[0m\u001b[0;34m\u001b[0m\u001b[0m\n\u001b[0;32m---> 20\u001b[0;31m \u001b[0mp\u001b[0m\u001b[0;34m.\u001b[0m\u001b[0mplot\u001b[0m\u001b[0;34m(\u001b[0m\u001b[0;34m)\u001b[0m\u001b[0;34m\u001b[0m\u001b[0;34m\u001b[0m\u001b[0m\n\u001b[0m\u001b[1;32m     21\u001b[0m \u001b[0;34m\u001b[0m\u001b[0m\n\u001b[1;32m     22\u001b[0m \u001b[0mplt\u001b[0m\u001b[0;34m.\u001b[0m\u001b[0mshow\u001b[0m\u001b[0;34m(\u001b[0m\u001b[0;34m)\u001b[0m\u001b[0;34m\u001b[0m\u001b[0;34m\u001b[0m\u001b[0m\n",
      "\u001b[0;32m/opt/conda/lib/python3.9/site-packages/kafe2/fit/_base/plot.py\u001b[0m in \u001b[0;36mplot\u001b[0;34m(self, legend, fit_info, asymmetric_parameter_errors, ratio, ratio_range, ratio_height_share, residual, residual_range, residual_height_share, plot_width_share, figsize)\u001b[0m\n\u001b[1;32m   1320\u001b[0m                 )\n\u001b[1;32m   1321\u001b[0m \u001b[0;34m\u001b[0m\u001b[0m\n\u001b[0;32m-> 1322\u001b[0;31m                 \u001b[0m_plot_results\u001b[0m \u001b[0;34m=\u001b[0m \u001b[0mself\u001b[0m\u001b[0;34m.\u001b[0m\u001b[0m_plot_and_get_results\u001b[0m\u001b[0;34m(\u001b[0m\u001b[0mplot_indices\u001b[0m\u001b[0;34m=\u001b[0m\u001b[0;34m(\u001b[0m\u001b[0mi\u001b[0m\u001b[0;34m,\u001b[0m\u001b[0;34m)\u001b[0m \u001b[0;32mif\u001b[0m \u001b[0mself\u001b[0m\u001b[0;34m.\u001b[0m\u001b[0m_separate_figs\u001b[0m \u001b[0;32melse\u001b[0m \u001b[0;32mNone\u001b[0m\u001b[0;34m)\u001b[0m\u001b[0;34m\u001b[0m\u001b[0;34m\u001b[0m\u001b[0m\n\u001b[0m\u001b[1;32m   1323\u001b[0m \u001b[0;34m\u001b[0m\u001b[0m\n\u001b[1;32m   1324\u001b[0m                 \u001b[0;31m# set axis scales for the main plot, x-axis is shared with ratio plot\u001b[0m\u001b[0;34m\u001b[0m\u001b[0;34m\u001b[0m\u001b[0;34m\u001b[0m\u001b[0m\n",
      "\u001b[0;32m/opt/conda/lib/python3.9/site-packages/kafe2/fit/_base/plot.py\u001b[0m in \u001b[0;36m_plot_and_get_results\u001b[0;34m(self, plot_indices)\u001b[0m\n\u001b[1;32m    823\u001b[0m                 \u001b[0m_plot_kwargs\u001b[0m\u001b[0;34m[\u001b[0m\u001b[0;34m'zorder'\u001b[0m\u001b[0;34m]\u001b[0m \u001b[0;34m=\u001b[0m \u001b[0m_plot_kwargs\u001b[0m\u001b[0;34m[\u001b[0m\u001b[0;34m'zorder'\u001b[0m\u001b[0;34m]\u001b[0m \u001b[0;34m-\u001b[0m \u001b[0;36m10\u001b[0m\u001b[0;34m*\u001b[0m\u001b[0m_i_pdc\u001b[0m\u001b[0;34m\u001b[0m\u001b[0;34m\u001b[0m\u001b[0m\n\u001b[1;32m    824\u001b[0m \u001b[0;34m\u001b[0m\u001b[0m\n\u001b[0;32m--> 825\u001b[0;31m                 _artist = _pdc.call_plot_method(_pt,\n\u001b[0m\u001b[1;32m    826\u001b[0m                                                 \u001b[0mtarget_axes\u001b[0m\u001b[0;34m=\u001b[0m\u001b[0mself\u001b[0m\u001b[0;34m.\u001b[0m\u001b[0m_get_axes\u001b[0m\u001b[0;34m(\u001b[0m\u001b[0m_axes_key\u001b[0m\u001b[0;34m)\u001b[0m\u001b[0;34m,\u001b[0m\u001b[0;34m\u001b[0m\u001b[0;34m\u001b[0m\u001b[0m\n\u001b[1;32m    827\u001b[0m                                                 \u001b[0;34m**\u001b[0m\u001b[0m_plot_kwargs\u001b[0m\u001b[0;34m\u001b[0m\u001b[0;34m\u001b[0m\u001b[0m\n",
      "\u001b[0;32m/opt/conda/lib/python3.9/site-packages/kafe2/fit/_base/plot.py\u001b[0m in \u001b[0;36mcall_plot_method\u001b[0;34m(self, plot_type, target_axes, **kwargs)\u001b[0m\n\u001b[1;32m    372\u001b[0m             \u001b[0;32mreturn\u001b[0m\u001b[0;34m\u001b[0m\u001b[0;34m\u001b[0m\u001b[0m\n\u001b[1;32m    373\u001b[0m \u001b[0;34m\u001b[0m\u001b[0m\n\u001b[0;32m--> 374\u001b[0;31m         return _callable(\n\u001b[0m\u001b[1;32m    375\u001b[0m             \u001b[0mtarget_axes\u001b[0m\u001b[0;34m=\u001b[0m\u001b[0mtarget_axes\u001b[0m\u001b[0;34m,\u001b[0m\u001b[0;34m\u001b[0m\u001b[0;34m\u001b[0m\u001b[0m\n\u001b[1;32m    376\u001b[0m             \u001b[0;34m**\u001b[0m\u001b[0mkwargs\u001b[0m\u001b[0;34m\u001b[0m\u001b[0;34m\u001b[0m\u001b[0m\n",
      "\u001b[0;32m/opt/conda/lib/python3.9/site-packages/kafe2/fit/xy/plot.py\u001b[0m in \u001b[0;36mplot_model_line\u001b[0;34m(self, target_axes, **kwargs)\u001b[0m\n\u001b[1;32m    173\u001b[0m         \"\"\"\n\u001b[1;32m    174\u001b[0m         \u001b[0;31m# TODO: how to handle 'data' errors and 'model' errors?\u001b[0m\u001b[0;34m\u001b[0m\u001b[0;34m\u001b[0m\u001b[0;34m\u001b[0m\u001b[0m\n\u001b[0;32m--> 175\u001b[0;31m         return target_axes.plot(self.model_line_x,\n\u001b[0m\u001b[1;32m    176\u001b[0m                                 \u001b[0mself\u001b[0m\u001b[0;34m.\u001b[0m\u001b[0mmodel_line_y\u001b[0m\u001b[0;34m,\u001b[0m\u001b[0;34m\u001b[0m\u001b[0;34m\u001b[0m\u001b[0m\n\u001b[1;32m    177\u001b[0m                                 **kwargs)\n",
      "\u001b[0;32m/opt/conda/lib/python3.9/site-packages/matplotlib/axes/_axes.py\u001b[0m in \u001b[0;36mplot\u001b[0;34m(self, scalex, scaley, data, *args, **kwargs)\u001b[0m\n\u001b[1;32m   1660\u001b[0m         \"\"\"\n\u001b[1;32m   1661\u001b[0m         \u001b[0mkwargs\u001b[0m \u001b[0;34m=\u001b[0m \u001b[0mcbook\u001b[0m\u001b[0;34m.\u001b[0m\u001b[0mnormalize_kwargs\u001b[0m\u001b[0;34m(\u001b[0m\u001b[0mkwargs\u001b[0m\u001b[0;34m,\u001b[0m \u001b[0mmlines\u001b[0m\u001b[0;34m.\u001b[0m\u001b[0mLine2D\u001b[0m\u001b[0;34m)\u001b[0m\u001b[0;34m\u001b[0m\u001b[0;34m\u001b[0m\u001b[0m\n\u001b[0;32m-> 1662\u001b[0;31m         \u001b[0mlines\u001b[0m \u001b[0;34m=\u001b[0m \u001b[0;34m[\u001b[0m\u001b[0;34m*\u001b[0m\u001b[0mself\u001b[0m\u001b[0;34m.\u001b[0m\u001b[0m_get_lines\u001b[0m\u001b[0;34m(\u001b[0m\u001b[0;34m*\u001b[0m\u001b[0margs\u001b[0m\u001b[0;34m,\u001b[0m \u001b[0mdata\u001b[0m\u001b[0;34m=\u001b[0m\u001b[0mdata\u001b[0m\u001b[0;34m,\u001b[0m \u001b[0;34m**\u001b[0m\u001b[0mkwargs\u001b[0m\u001b[0;34m)\u001b[0m\u001b[0;34m]\u001b[0m\u001b[0;34m\u001b[0m\u001b[0;34m\u001b[0m\u001b[0m\n\u001b[0m\u001b[1;32m   1663\u001b[0m         \u001b[0;32mfor\u001b[0m \u001b[0mline\u001b[0m \u001b[0;32min\u001b[0m \u001b[0mlines\u001b[0m\u001b[0;34m:\u001b[0m\u001b[0;34m\u001b[0m\u001b[0;34m\u001b[0m\u001b[0m\n\u001b[1;32m   1664\u001b[0m             \u001b[0mself\u001b[0m\u001b[0;34m.\u001b[0m\u001b[0madd_line\u001b[0m\u001b[0;34m(\u001b[0m\u001b[0mline\u001b[0m\u001b[0;34m)\u001b[0m\u001b[0;34m\u001b[0m\u001b[0;34m\u001b[0m\u001b[0m\n",
      "\u001b[0;32m/opt/conda/lib/python3.9/site-packages/matplotlib/axes/_base.py\u001b[0m in \u001b[0;36m__call__\u001b[0;34m(self, data, *args, **kwargs)\u001b[0m\n\u001b[1;32m    309\u001b[0m                 \u001b[0mthis\u001b[0m \u001b[0;34m+=\u001b[0m \u001b[0margs\u001b[0m\u001b[0;34m[\u001b[0m\u001b[0;36m0\u001b[0m\u001b[0;34m]\u001b[0m\u001b[0;34m,\u001b[0m\u001b[0;34m\u001b[0m\u001b[0;34m\u001b[0m\u001b[0m\n\u001b[1;32m    310\u001b[0m                 \u001b[0margs\u001b[0m \u001b[0;34m=\u001b[0m \u001b[0margs\u001b[0m\u001b[0;34m[\u001b[0m\u001b[0;36m1\u001b[0m\u001b[0;34m:\u001b[0m\u001b[0;34m]\u001b[0m\u001b[0;34m\u001b[0m\u001b[0;34m\u001b[0m\u001b[0m\n\u001b[0;32m--> 311\u001b[0;31m             yield from self._plot_args(\n\u001b[0m\u001b[1;32m    312\u001b[0m                 this, kwargs, ambiguous_fmt_datakey=ambiguous_fmt_datakey)\n\u001b[1;32m    313\u001b[0m \u001b[0;34m\u001b[0m\u001b[0m\n",
      "\u001b[0;32m/opt/conda/lib/python3.9/site-packages/matplotlib/axes/_base.py\u001b[0m in \u001b[0;36m_plot_args\u001b[0;34m(self, tup, kwargs, return_kwargs, ambiguous_fmt_datakey)\u001b[0m\n\u001b[1;32m    502\u001b[0m \u001b[0;34m\u001b[0m\u001b[0m\n\u001b[1;32m    503\u001b[0m         \u001b[0;32mif\u001b[0m \u001b[0mx\u001b[0m\u001b[0;34m.\u001b[0m\u001b[0mshape\u001b[0m\u001b[0;34m[\u001b[0m\u001b[0;36m0\u001b[0m\u001b[0;34m]\u001b[0m \u001b[0;34m!=\u001b[0m \u001b[0my\u001b[0m\u001b[0;34m.\u001b[0m\u001b[0mshape\u001b[0m\u001b[0;34m[\u001b[0m\u001b[0;36m0\u001b[0m\u001b[0;34m]\u001b[0m\u001b[0;34m:\u001b[0m\u001b[0;34m\u001b[0m\u001b[0;34m\u001b[0m\u001b[0m\n\u001b[0;32m--> 504\u001b[0;31m             raise ValueError(f\"x and y must have same first dimension, but \"\n\u001b[0m\u001b[1;32m    505\u001b[0m                              f\"have shapes {x.shape} and {y.shape}\")\n\u001b[1;32m    506\u001b[0m         \u001b[0;32mif\u001b[0m \u001b[0mx\u001b[0m\u001b[0;34m.\u001b[0m\u001b[0mndim\u001b[0m \u001b[0;34m>\u001b[0m \u001b[0;36m2\u001b[0m \u001b[0;32mor\u001b[0m \u001b[0my\u001b[0m\u001b[0;34m.\u001b[0m\u001b[0mndim\u001b[0m \u001b[0;34m>\u001b[0m \u001b[0;36m2\u001b[0m\u001b[0;34m:\u001b[0m\u001b[0;34m\u001b[0m\u001b[0;34m\u001b[0m\u001b[0m\n",
      "\u001b[0;31mValueError\u001b[0m: x and y must have same first dimension, but have shapes (200,) and (3,)"
     ]
    },
    {
     "data": {
      "image/png": "[encoded data removed]",
      "text/plain": [
       "<Figure size 1200x500 with 2 Axes>"
      ]
     },
     "metadata": {},
     "output_type": "display_data"
    }
   ],
   "source": [
    "def eichen(Bhall, A=0.8, b=1):\n",
    "    return U_hall*A+b\n",
    "\n",
    "xy_data = XYContainer(U_hall,Bhall)\n",
    "xy_data.add_error(axis='x', err_val=0.0125)\n",
    "xy_data.add_error(axis='y', err_val=0.02)\n",
    "\n",
    "fit = Fit(xy_data, eichen)\n",
    "fit.model_label = 'eichen'\n",
    "\n",
    "# Perform the fit:\n",
    "fit.do_fit()\n",
    "\n",
    "# Report and plot results:\n",
    "# fit.report()\n",
    "\n",
    "p = Plot(fit)\n",
    "p.x_label = 'Zeit (s)'\n",
    "p.y_label = 'Beschleunigung ($m/{s^{2}}$)'\n",
    "p.plot()\n",
    "\n",
    "plt.show()"
   ]
  },
  {
   "cell_type": "markdown",
   "id": "7725b8fc-4e8e-429e-9655-ebfa5f299fc1",
   "metadata": {},
   "source": []
  },
  {
   "cell_type": "code",
   "execution_count": null,
   "id": "52dc0e4c-249c-4447-9c15-5d684fd296be",
   "metadata": {},
   "outputs": [],
   "source": []
  },
  {
   "cell_type": "code",
   "execution_count": null,
   "id": "36a1b011-de66-4dde-b336-de161043e82e",
   "metadata": {},
   "outputs": [],
   "source": []
  },
  {
   "cell_type": "code",
   "execution_count": null,
   "id": "6a63e9ac-1d4b-464a-9e74-796cf2a040ea",
   "metadata": {},
   "outputs": [],
   "source": []
  },
  {
   "cell_type": "code",
   "execution_count": null,
   "id": "c2c23f92-06e9-45b1-a14d-0b550432c49e",
   "metadata": {},
   "outputs": [],
   "source": []
  }
 ],
 "metadata": {
  "kernelspec": {
   "display_name": "Python 3 (ipykernel)",
   "language": "python",
   "name": "python3"
  },
  "language_info": {
   "codemirror_mode": {
    "name": "ipython",
    "version": 3
   },
   "file_extension": ".py",
   "mimetype": "text/x-python",
   "name": "python",
   "nbconvert_exporter": "python",
   "pygments_lexer": "ipython3",
   "version": "3.9.6"
  }
 },
 "nbformat": 4,
 "nbformat_minor": 5
}
