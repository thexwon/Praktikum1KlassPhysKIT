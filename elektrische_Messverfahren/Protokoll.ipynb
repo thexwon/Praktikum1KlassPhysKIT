{
 "cells": [
  {
   "cell_type": "code",
   "execution_count": 1,
   "id": "fb972bd3-0577-4e6b-88c7-7af6aa68f5b5",
   "metadata": {},
   "outputs": [],
   "source": [
    "import csv\n",
    "import numpy as np, matplotlib.pyplot as plt\n",
    "from PhyPraKit import readPicoScope, resample\n",
    "from scipy import signal\n",
    "from scipy import interpolate\n",
    "import sys"
   ]
  },
  {
   "cell_type": "code",
   "execution_count": 2,
   "id": "0987e248-c325-4b5f-8812-d347ef0efecc",
   "metadata": {},
   "outputs": [],
   "source": [
    "#Aufgabe 2.5"
   ]
  },
  {
   "cell_type": "code",
   "execution_count": 3,
   "id": "49cef302-c9a5-4a69-ac75-f45165bca91b",
   "metadata": {},
   "outputs": [
    {
     "name": "stdout",
     "output_type": "stream",
     "text": [
      "0.032813559322033906\n"
     ]
    }
   ],
   "source": [
    "P = (8.8**2)/(4*590)\n",
    "print(P)"
   ]
  },
  {
   "cell_type": "code",
   "execution_count": 4,
   "id": "872356ad-dcef-4ebc-a690-e472a87b0c9e",
   "metadata": {},
   "outputs": [],
   "source": [
    "data = np.genfromtxt( \"Aufgabe2_3.csv\", \n",
    "                      delimiter=\",\", \n",
    "                      skip_header=3 )\n",
    "f = data[:,0]\n",
    "U = data[:,1]\n",
    "delta_t = data[:,2]"
   ]
  },
  {
   "cell_type": "code",
   "execution_count": 5,
   "id": "3e8373b9-4377-4ff4-a96c-92b0cda221f5",
   "metadata": {},
   "outputs": [
    {
     "data": {
      "text/plain": [
       "array([0.0097, 0.0143, 0.0218, 0.0506, 0.066 , 0.0911, 0.1394, 0.1948,\n",
       "       0.1642, 0.1149, 0.0812, 0.0638, 0.0382, 0.0251, 0.0189, 0.0153,\n",
       "       0.0129, 0.0113, 0.0101, 0.0091, 0.0083, 0.0076])"
      ]
     },
     "execution_count": 5,
     "metadata": {},
     "output_type": "execute_result"
    }
   ],
   "source": [
    "np.round(U,4)"
   ]
  },
  {
   "cell_type": "code",
   "execution_count": 9,
   "id": "bf0017ec-fb47-4f43-b214-b43e49e864dd",
   "metadata": {},
   "outputs": [
    {
     "name": "stdout",
     "output_type": "stream",
     "text": [
      "[ 2.2   1.8   1.6   1.2   1.05  0.9   0.58  0.   -0.5  -0.9  -0.9  -1.\n",
      " -1.1  -1.1  -1.1  -1.1  -1.1  -1.1  -1.1  -1.1  -1.1  -1.1 ]\n",
      "[ 0.0022   0.0018   0.0016   0.0012   0.00105  0.0009   0.00058  0.\n",
      " -0.0005  -0.0009  -0.0009  -0.001   -0.0011  -0.0011  -0.0011  -0.0011\n",
      " -0.0011  -0.0011  -0.0011  -0.0011  -0.0011  -0.0011 ]\n"
     ]
    }
   ],
   "source": [
    "print(delta_t)\n",
    "delta_t_cor=delta_t*10**(-3)\n",
    "print(delta_t_cor)"
   ]
  },
  {
   "cell_type": "code",
   "execution_count": 13,
   "id": "d4dc0f7d-874c-48d3-9605-346c07686b2c",
   "metadata": {},
   "outputs": [
    {
     "name": "stdout",
     "output_type": "stream",
     "text": [
      "[ 1.3823  1.3572  1.4074  1.2441  1.1215  0.9896  0.656   0.     -0.5969\n",
      " -1.1027 -1.131  -1.2881 -1.5205 -1.6588 -1.797  -1.9352 -2.0735 -2.2117\n",
      " -2.3499 -2.4881 -2.6264 -2.7646]\n"
     ]
    }
   ],
   "source": [
    "delta_phi=2*np.pi*f*delta_t_cor\n",
    "print(np.round(delta_phi,4))"
   ]
  },
  {
   "cell_type": "code",
   "execution_count": null,
   "id": "292a560c-0abb-4aca-ad1b-3392422fe663",
   "metadata": {},
   "outputs": [],
   "source": []
  }
 ],
 "metadata": {
  "kernelspec": {
   "display_name": "Python 3 (ipykernel)",
   "language": "python",
   "name": "python3"
  },
  "language_info": {
   "codemirror_mode": {
    "name": "ipython",
    "version": 3
   },
   "file_extension": ".py",
   "mimetype": "text/x-python",
   "name": "python",
   "nbconvert_exporter": "python",
   "pygments_lexer": "ipython3",
   "version": "3.9.6"
  }
 },
 "nbformat": 4,
 "nbformat_minor": 5
}
