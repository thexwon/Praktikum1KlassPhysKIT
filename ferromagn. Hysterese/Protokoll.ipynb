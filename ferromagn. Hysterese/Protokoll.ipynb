{
 "cells": [
  {
   "cell_type": "code",
   "execution_count": 10,
   "id": "d485ffdd-5d8f-445b-bfd5-ed37051c0318",
   "metadata": {},
   "outputs": [
    {
     "name": "stdout",
     "output_type": "stream",
     "text": [
      "Welcome to JupyROOT 6.24/06\n"
     ]
    }
   ],
   "source": [
    "import numpy as np \n",
    "import matplotlib.pyplot as plt\n",
    "from PhyPraKit import readPicoScope, resample\n",
    "from scipy import signal\n",
    "from scipy import interpolate\n",
    "import sys\n",
    "from kafe2 import  XYContainer, Fit, XYFit, Plot, ContoursProfiler                            \n",
    "from uncertainties import ufloat, unumpy\n",
    "from math import log10, floor\n",
    "import scipy.integrate as integrate\n",
    "import pandas as pd"
   ]
  },
  {
   "cell_type": "code",
   "execution_count": 11,
   "id": "3e3338e1-9030-4fb0-ba0a-4b6e8750c2fc",
   "metadata": {},
   "outputs": [],
   "source": [
    "### Aufgabe 1"
   ]
  },
  {
   "cell_type": "code",
   "execution_count": 12,
   "id": "81a8efc2-cb39-4deb-913c-55a5a594beea",
   "metadata": {},
   "outputs": [],
   "source": [
    "U_W=(6.15+6.103)/2\n",
    "U_Sp=(4.378+4.354)/2\n",
    "Fasen_verschie=2.83*10**(-3)\n",
    "R= 10\n",
    "w=2*np.pi*50\n",
    "f=50"
   ]
  },
  {
   "cell_type": "code",
   "execution_count": null,
   "id": "d61c28de-5900-4e19-b657-ea6c7570e12a",
   "metadata": {},
   "outputs": [
    {
     "name": "stdout",
     "output_type": "stream",
     "text": [
      "L: 0.03468268810226373\n",
      "r: 8.842224374294924\n"
     ]
    }
   ],
   "source": [
    "L=U_W/U_Sp*R/w*np.sin(Fasen_verschie*2*np.pi*f)\n",
    "r=U_W/U_Sp*R*np.cos(Fasen_verschie*2*np.pi*f)\n",
    "print('bei 303,3mA L:',L)\n",
    "print('bei 303,3mA r:',r)"
   ]
  },
  {
   "cell_type": "code",
   "execution_count": 16,
   "id": "41ba87b9-b9d8-46cd-952e-bf8366580397",
   "metadata": {},
   "outputs": [],
   "source": [
    "U_W=((631.5+631.5)/2)*10**(-3)\n",
    "U_Sp=((448.4+444.8)/2)*10**(-3)\n",
    "Fasen_verschie=2.83*10**(-3)\n",
    "R= 10\n",
    "w=2*np.pi*50\n",
    "f=50"
   ]
  },
  {
   "cell_type": "code",
   "execution_count": 17,
   "id": "84d88b3a-9d43-45a3-823a-1e0ab3d320b7",
   "metadata": {},
   "outputs": [
    {
     "name": "stdout",
     "output_type": "stream",
     "text": [
      "bei 31mA L: 0.03494931596294642\n",
      "bei 31mA r: 8.91020017137395\n"
     ]
    }
   ],
   "source": [
    "L=U_W/U_Sp*R/w*np.sin(Fasen_verschie*2*np.pi*f)\n",
    "r=U_W/U_Sp*R*np.cos(Fasen_verschie*2*np.pi*f)\n",
    "print('bei 31mA L:',L)\n",
    "print('bei 31mA r:',r)"
   ]
  },
  {
   "cell_type": "code",
   "execution_count": null,
   "id": "664e0d03-eab2-4587-9fdc-217cb60affa4",
   "metadata": {},
   "outputs": [],
   "source": []
  }
 ],
 "metadata": {
  "kernelspec": {
   "display_name": "Python 3 (ipykernel)",
   "language": "python",
   "name": "python3"
  },
  "language_info": {
   "codemirror_mode": {
    "name": "ipython",
    "version": 3
   },
   "file_extension": ".py",
   "mimetype": "text/x-python",
   "name": "python",
   "nbconvert_exporter": "python",
   "pygments_lexer": "ipython3",
   "version": "3.9.6"
  }
 },
 "nbformat": 4,
 "nbformat_minor": 5
}
