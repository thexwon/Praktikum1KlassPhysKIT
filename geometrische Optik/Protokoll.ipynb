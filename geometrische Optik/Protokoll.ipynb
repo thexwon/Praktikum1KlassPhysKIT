{
 "cells": [
  {
   "cell_type": "code",
   "execution_count": 1,
   "id": "b24922a5-ced1-4d20-8ada-d7f652beaac0",
   "metadata": {},
   "outputs": [
    {
     "name": "stdout",
     "output_type": "stream",
     "text": [
      "Welcome to JupyROOT 6.24/06\n"
     ]
    }
   ],
   "source": [
    "import numpy as np\n",
    "from matplotlib import pyplot as plt\n",
    "from kafe2 import  XYContainer, Fit, XYFit, Plot, ContoursProfiler                            \n",
    "import PhyPraKit as ppk\n",
    "from scipy.signal import find_peaks\n",
    "from uncertainties import ufloat, unumpy\n",
    "from math import log10, floor\n",
    "import scipy.integrate as integrate"
   ]
  },
  {
   "cell_type": "markdown",
   "id": "383417cd-3157-489c-8380-cdc146b569fe",
   "metadata": {},
   "source": [
    "### 1.1"
   ]
  },
  {
   "cell_type": "code",
   "execution_count": 2,
   "id": "1e12382f-a8ce-4fc3-ba01-62eb38401181",
   "metadata": {},
   "outputs": [
    {
     "name": "stdout",
     "output_type": "stream",
     "text": [
      "[[0.473 0.31 ]\n",
      " [0.46  0.31 ]\n",
      " [0.457 0.31 ]\n",
      " [0.466 0.31 ]]\n",
      "experimenteller Wert für die Brennweite: 0.15400000000000003 \\pm 0.006123724356957931\n"
     ]
    }
   ],
   "source": [
    "data=np.loadtxt('1_1.txt') #importiere Daten\n",
    "print(data)\n",
    "Schirm=data[:,0]\n",
    "Quelle=data[:,1]\n",
    "Abstand=Schirm-Quelle\n",
    "print('experimenteller Wert für die Brennweite:',np.mean(Abstand),'\\pm',np.sqrt(np.var(Abstand)))"
   ]
  },
  {
   "cell_type": "markdown",
   "id": "e6262845-10ba-4c5f-ae3b-464185bb642a",
   "metadata": {},
   "source": [
    "### 1.2"
   ]
  },
  {
   "cell_type": "code",
   "execution_count": 3,
   "id": "ed1abcb1-8ab1-4ff6-b219-5c452ffb7693",
   "metadata": {},
   "outputs": [],
   "source": [
    "L=1.31-0.35\n",
    "data=np.loadtxt('1.2a).txt', skiprows=3) #importiere Daten\n",
    "F1=data[:,0]\n",
    "F2=data[:,1]\n",
    "e= F2-F1"
   ]
  },
  {
   "cell_type": "code",
   "execution_count": 4,
   "id": "459a50ca-7feb-4810-bc90-fa6dc2333b45",
   "metadata": {},
   "outputs": [],
   "source": [
    "f=(e**2-L**2)/(-4*L)\n",
    "f_m1=f"
   ]
  },
  {
   "cell_type": "code",
   "execution_count": 5,
   "id": "887074f8-fa52-4685-8cb6-e08fddc74f0e",
   "metadata": {},
   "outputs": [
    {
     "name": "stdout",
     "output_type": "stream",
     "text": [
      "Das sind die einzelnen Brennweiten der Messung: [0.15026849 0.15087891 0.15269766 0.15148724 0.14687396 0.14625\n",
      " 0.14811563 0.14625    0.15449766 0.1499625  0.15269766 0.15239583\n",
      " 0.14934896 0.14934896 0.15118333 0.14934896]\n"
     ]
    }
   ],
   "source": [
    "print('Das sind die einzelnen Brennweiten der Messung:',f)"
   ]
  },
  {
   "cell_type": "code",
   "execution_count": 6,
   "id": "2f73a55d-d52b-46ba-88d4-dbb31564ff9e",
   "metadata": {},
   "outputs": [
    {
     "name": "stdout",
     "output_type": "stream",
     "text": [
      "Mittelwert erster Teil: 0.1513+/-0.0009 \n",
      " Mittelwert zweiter Teil: 0.1469+/-0.0008 \n",
      " Mittelwert dritter Teil: 0.1524+/-0.0016 \n",
      " Mittelwert vierter Teil: 0.1498+/-0.0008\n"
     ]
    }
   ],
   "source": [
    "f1 = f[:4]\n",
    "f2 = f[:8]\n",
    "f2 = f2[4:]\n",
    "f3 = f[:12]\n",
    "f3 = f3[8:]\n",
    "f4 = f[:16]\n",
    "f4 = f4[12:]\n",
    "f1 = ufloat(np.mean(f1),np.sqrt(np.var(f1)))\n",
    "f2 = ufloat(np.mean(f2),np.sqrt(np.var(f2)))\n",
    "f3 = ufloat(np.mean(f3),np.sqrt(np.var(f3)))\n",
    "f4 = ufloat(np.mean(f4),np.sqrt(np.var(f4)))\n",
    "print('Mittelwert erster Teil:',f1,'\\n','Mittelwert zweiter Teil:',f2,'\\n','Mittelwert dritter Teil:',f3,'\\n','Mittelwert vierter Teil:',f4)"
   ]
  },
  {
   "cell_type": "markdown",
   "id": "88a6d919-d941-4aeb-b0cf-31ae8292c042",
   "metadata": {},
   "source": [
    "zweite Messreihe"
   ]
  },
  {
   "cell_type": "code",
   "execution_count": 7,
   "id": "e54bd48e-14bb-4519-a3a2-82d1afde32a1",
   "metadata": {},
   "outputs": [],
   "source": [
    "L=1.54-0.35\n",
    "data=np.loadtxt('1.2b).txt', skiprows=3) #importiere Daten\n",
    "F3=data[:,0]\n",
    "F4=data[:,1]\n",
    "e= F4-F3"
   ]
  },
  {
   "cell_type": "code",
   "execution_count": 8,
   "id": "f4934a63-c583-4eac-a7d7-5a19bcb780fd",
   "metadata": {},
   "outputs": [],
   "source": [
    "f=(e**2-L**2)/(-4*L)\n",
    "f_m2=f"
   ]
  },
  {
   "cell_type": "code",
   "execution_count": 9,
   "id": "733ca863-4cec-4462-a849-539c3519b6d1",
   "metadata": {},
   "outputs": [
    {
     "name": "stdout",
     "output_type": "stream",
     "text": [
      "Das sind die einzelnen Brennweiten der Messung: [0.14464097 0.14749475 0.13885273 0.14392332 0.14103592 0.14067311\n",
      " 0.14248298 0.14176029 0.1428437  0.14248298 0.14499916 0.14464097\n",
      " 0.14139832 0.14392332 0.14139832 0.13702185]\n"
     ]
    },
    {
     "data": {
      "text/plain": [
       "16"
      ]
     },
     "execution_count": 9,
     "metadata": {},
     "output_type": "execute_result"
    }
   ],
   "source": [
    "print('Das sind die einzelnen Brennweiten der Messung:',f)\n",
    "len(f)"
   ]
  },
  {
   "cell_type": "code",
   "execution_count": 10,
   "id": "29f2b115-b3f1-46c8-b4d2-d2528804ff71",
   "metadata": {},
   "outputs": [
    {
     "name": "stdout",
     "output_type": "stream",
     "text": [
      "Mittelwert fünfter Teil: 0.1437+/-0.0031 \n",
      " Mittelwert sechster Teil: 0.1415+/-0.0007 \n",
      " Mittelwert siebter Teil: 0.1437+/-0.0011 \n",
      " Mittelwert achter Teil: 0.1409+/-0.0025\n"
     ]
    }
   ],
   "source": [
    "f5 = f[:4]\n",
    "f6 = f[:8]\n",
    "f6 = f6[4:]\n",
    "f7 = f[:12]\n",
    "f7 = f7[8:]\n",
    "f8 = f[:16]\n",
    "f8 = f8[12:]\n",
    "f5 = ufloat(np.mean(f5),np.sqrt(np.var(f5)))\n",
    "f6 = ufloat(np.mean(f6),np.sqrt(np.var(f6)))\n",
    "f7 = ufloat(np.mean(f7),np.sqrt(np.var(f7)))\n",
    "f8 = ufloat(np.mean(f8),np.sqrt(np.var(f8)))\n",
    "print('Mittelwert fünfter Teil:',f5,'\\n','Mittelwert sechster Teil:',f6,'\\n','Mittelwert siebter Teil:',f7,'\\n','Mittelwert achter Teil:',f8)"
   ]
  },
  {
   "cell_type": "code",
   "execution_count": 12,
   "id": "67742bbb-091d-46f1-8143-b59ded11f981",
   "metadata": {},
   "outputs": [
    {
     "name": "stdout",
     "output_type": "stream",
     "text": [
      "gesamte brennweite: 0.14628682557007183 \\pm 0.004504182845095151\n"
     ]
    }
   ],
   "source": [
    "f_ges=np.append(f_m1,f_m2, axis=0)\n",
    "print('gesamte brennweite:',np.mean(f_ges),'\\pm',np.sqrt(np.var(f_ges)))"
   ]
  },
  {
   "cell_type": "code",
   "execution_count": null,
   "id": "d7c0ce4e-5e42-4d02-94b1-64ad72ec31a8",
   "metadata": {},
   "outputs": [],
   "source": []
  },
  {
   "cell_type": "code",
   "execution_count": null,
   "id": "7bfda091-dc18-47f7-9ecb-8f90472ae171",
   "metadata": {},
   "outputs": [],
   "source": []
  },
  {
   "cell_type": "code",
   "execution_count": null,
   "id": "1c309f0d-5b7b-438e-ab15-246b30b00180",
   "metadata": {},
   "outputs": [],
   "source": []
  }
 ],
 "metadata": {
  "kernelspec": {
   "display_name": "Python 3 (ipykernel)",
   "language": "python",
   "name": "python3"
  },
  "language_info": {
   "codemirror_mode": {
    "name": "ipython",
    "version": 3
   },
   "file_extension": ".py",
   "mimetype": "text/x-python",
   "name": "python",
   "nbconvert_exporter": "python",
   "pygments_lexer": "ipython3",
   "version": "3.9.6"
  }
 },
 "nbformat": 4,
 "nbformat_minor": 5
}
