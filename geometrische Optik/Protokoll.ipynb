{
 "cells": [
  {
   "cell_type": "code",
   "execution_count": 1,
   "id": "b24922a5-ced1-4d20-8ada-d7f652beaac0",
   "metadata": {},
   "outputs": [
    {
     "name": "stdout",
     "output_type": "stream",
     "text": [
      "Welcome to JupyROOT 6.24/06\n"
     ]
    }
   ],
   "source": [
    "import numpy as np\n",
    "from matplotlib import pyplot as plt\n",
    "from kafe2 import  XYContainer, Fit, XYFit, Plot, ContoursProfiler                            \n",
    "import PhyPraKit as ppk\n",
    "from scipy.signal import find_peaks\n",
    "from uncertainties import ufloat, unumpy\n",
    "from math import log10, floor\n",
    "import scipy.integrate as integrate"
   ]
  },
  {
   "cell_type": "markdown",
   "id": "383417cd-3157-489c-8380-cdc146b569fe",
   "metadata": {},
   "source": [
    "### 1.1"
   ]
  },
  {
   "cell_type": "code",
   "execution_count": 2,
   "id": "1e12382f-a8ce-4fc3-ba01-62eb38401181",
   "metadata": {},
   "outputs": [
    {
     "name": "stdout",
     "output_type": "stream",
     "text": [
      "[[0.473 0.31 ]\n",
      " [0.46  0.31 ]\n",
      " [0.457 0.31 ]\n",
      " [0.466 0.31 ]]\n",
      "experimenteller Wert für die Brennweite: 0.15400000000000003 \\pm 0.006123724356957931\n"
     ]
    }
   ],
   "source": [
    "data=np.loadtxt('1_1.txt') #importiere Daten\n",
    "print(data)\n",
    "Schirm=data[:,0]\n",
    "Quelle=data[:,1]\n",
    "Abstand=Schirm-Quelle\n",
    "print('experimenteller Wert für die Brennweite:',np.mean(Abstand),'\\pm',np.sqrt(np.var(Abstand)))"
   ]
  },
  {
   "cell_type": "markdown",
   "id": "e6262845-10ba-4c5f-ae3b-464185bb642a",
   "metadata": {},
   "source": [
    "### 1.2"
   ]
  },
  {
   "cell_type": "code",
   "execution_count": 3,
   "id": "ed1abcb1-8ab1-4ff6-b219-5c452ffb7693",
   "metadata": {},
   "outputs": [],
   "source": [
    "L=1.31-0.35\n",
    "data=np.loadtxt('1.2a).txt', skiprows=3) #importiere Daten\n",
    "F1=data[:,0]\n",
    "F2=data[:,1]\n",
    "e= F2-F1"
   ]
  },
  {
   "cell_type": "code",
   "execution_count": 4,
   "id": "459a50ca-7feb-4810-bc90-fa6dc2333b45",
   "metadata": {},
   "outputs": [],
   "source": [
    "f=(e**2-L**2)/(-4*L)\n",
    "f_m1=f"
   ]
  },
  {
   "cell_type": "code",
   "execution_count": 5,
   "id": "887074f8-fa52-4685-8cb6-e08fddc74f0e",
   "metadata": {},
   "outputs": [
    {
     "name": "stdout",
     "output_type": "stream",
     "text": [
      "Das sind die einzelnen Brennweiten der Messung: [0.15026849 0.15087891 0.15269766 0.15148724 0.14687396 0.14625\n",
      " 0.14811563 0.14625    0.15449766 0.1499625  0.15269766 0.15239583\n",
      " 0.14934896 0.14934896 0.15118333 0.14934896]\n"
     ]
    }
   ],
   "source": [
    "print('Das sind die einzelnen Brennweiten der Messung:',f)"
   ]
  },
  {
   "cell_type": "code",
   "execution_count": 6,
   "id": "2f73a55d-d52b-46ba-88d4-dbb31564ff9e",
   "metadata": {},
   "outputs": [
    {
     "name": "stdout",
     "output_type": "stream",
     "text": [
      "Mittelwert erster Teil: 0.1513+/-0.0009 \n",
      " Mittelwert zweiter Teil: 0.1469+/-0.0008 \n",
      " Mittelwert dritter Teil: 0.1524+/-0.0016 \n",
      " Mittelwert vierter Teil: 0.1498+/-0.0008\n"
     ]
    }
   ],
   "source": [
    "f1 = f[:4]\n",
    "f2 = f[:8]\n",
    "f2 = f2[4:]\n",
    "f3 = f[:12]\n",
    "f3 = f3[8:]\n",
    "f4 = f[:16]\n",
    "f4 = f4[12:]\n",
    "f11 = ufloat(np.mean(f1),np.sqrt(np.var(f1)))\n",
    "f21 = ufloat(np.mean(f2),np.sqrt(np.var(f2)))\n",
    "f31 = ufloat(np.mean(f3),np.sqrt(np.var(f3)))\n",
    "f41 = ufloat(np.mean(f4),np.sqrt(np.var(f4)))\n",
    "print('Mittelwert erster Teil:',f11,'\\n','Mittelwert zweiter Teil:',f21,'\\n','Mittelwert dritter Teil:',f31,'\\n','Mittelwert vierter Teil:',f41)"
   ]
  },
  {
   "cell_type": "markdown",
   "id": "88a6d919-d941-4aeb-b0cf-31ae8292c042",
   "metadata": {},
   "source": [
    "zweite Messreihe"
   ]
  },
  {
   "cell_type": "code",
   "execution_count": 7,
   "id": "e54bd48e-14bb-4519-a3a2-82d1afde32a1",
   "metadata": {},
   "outputs": [
    {
     "name": "stdout",
     "output_type": "stream",
     "text": [
      "[1.372 1.365 1.386 1.376 1.379 1.381 1.377 1.376 1.384 1.378 1.376 1.373\n",
      " 1.386 1.376 1.381 1.39 ]\n",
      "[0.833 0.825 0.849 0.835 0.843 0.844 0.839 0.841 0.838 0.839 0.832 0.833\n",
      " 0.842 0.835 0.842 0.854]\n",
      "1.19\n"
     ]
    }
   ],
   "source": [
    "L=1.54-0.35\n",
    "data=np.loadtxt('1.2b).txt', skiprows=3) #importiere Daten\n",
    "F3=data[:,0]\n",
    "F4=data[:,1]\n",
    "e= F4-F3\n",
    "print(F4)\n",
    "print(e)\n",
    "print(L)"
   ]
  },
  {
   "cell_type": "code",
   "execution_count": 8,
   "id": "f4934a63-c583-4eac-a7d7-5a19bcb780fd",
   "metadata": {},
   "outputs": [],
   "source": [
    "f=(e**2-L**2)/(-4*L)\n",
    "f_m2=f"
   ]
  },
  {
   "cell_type": "code",
   "execution_count": 9,
   "id": "733ca863-4cec-4462-a849-539c3519b6d1",
   "metadata": {},
   "outputs": [
    {
     "name": "stdout",
     "output_type": "stream",
     "text": [
      "Das sind die einzelnen Brennweiten der Messung: [0.1517 0.1545 0.1461 0.151  0.1482 0.1478 0.1496 0.1489 0.15   0.1496\n",
      " 0.1521 0.1517 0.1486 0.151  0.1486 0.1443]\n"
     ]
    },
    {
     "data": {
      "text/plain": [
       "16"
      ]
     },
     "execution_count": 9,
     "metadata": {},
     "output_type": "execute_result"
    }
   ],
   "source": [
    "print('Das sind die einzelnen Brennweiten der Messung:',np.round(f,decimals=4))\n",
    "len(f)"
   ]
  },
  {
   "cell_type": "code",
   "execution_count": 10,
   "id": "29f2b115-b3f1-46c8-b4d2-d2528804ff71",
   "metadata": {},
   "outputs": [
    {
     "name": "stdout",
     "output_type": "stream",
     "text": [
      "Mittelwert fünfter Teil: 0.1508+/-0.0030 \n",
      " Mittelwert sechster Teil: 0.1486+/-0.0007 \n",
      " Mittelwert siebter Teil: 0.1508+/-0.0011 \n",
      " Mittelwert achter Teil: 0.1481+/-0.0024\n"
     ]
    }
   ],
   "source": [
    "f5 = f[:4]\n",
    "f6 = f[:8]\n",
    "f6 = f6[4:]\n",
    "f7 = f[:12]\n",
    "f7 = f7[8:]\n",
    "f8 = f[:16]\n",
    "f8 = f8[12:]\n",
    "f51 = ufloat(np.mean(f5),np.sqrt(np.var(f5)))\n",
    "f61 = ufloat(np.mean(f6),np.sqrt(np.var(f6)))\n",
    "f71 = ufloat(np.mean(f7),np.sqrt(np.var(f7)))\n",
    "f81 = ufloat(np.mean(f8),np.sqrt(np.var(f8)))\n",
    "print('Mittelwert fünfter Teil:',f51,'\\n','Mittelwert sechster Teil:',f61,'\\n','Mittelwert siebter Teil:',f71,'\\n','Mittelwert achter Teil:',f81)"
   ]
  },
  {
   "cell_type": "code",
   "execution_count": 11,
   "id": "67742bbb-091d-46f1-8143-b59ded11f981",
   "metadata": {},
   "outputs": [
    {
     "name": "stdout",
     "output_type": "stream",
     "text": [
      "gesamte brennweite: 0.1498540524608281 \\pm 0.0023805301893994896\n"
     ]
    }
   ],
   "source": [
    "f_ges=np.append(f_m1,f_m2, axis=0)\n",
    "print('gesamte brennweite:',np.mean(f_ges),'\\pm',np.sqrt(np.var(f_ges)))\n",
    "f100= f5+f1"
   ]
  },
  {
   "cell_type": "code",
   "execution_count": 12,
   "id": "d7c0ce4e-5e42-4d02-94b1-64ad72ec31a8",
   "metadata": {},
   "outputs": [],
   "source": [
    "f9 = np.append(f5,f1)\n",
    "f10 = np.append(f6,f2)\n",
    "f11 = np.append(f7,f3)\n",
    "f12 = np.append(f8,f4)"
   ]
  },
  {
   "cell_type": "code",
   "execution_count": 14,
   "id": "7bfda091-dc18-47f7-9ecb-8f90472ae171",
   "metadata": {},
   "outputs": [
    {
     "name": "stdout",
     "output_type": "stream",
     "text": [
      "Mittelwert fünfter Teil: 0.1511+/-0.0023 \n",
      " Mittelwert sechster Teil: 0.1478+/-0.0011 \n",
      " Mittelwert siebter Teil: 0.1516+/-0.0016 \n",
      " Mittelwert achter Teil: 0.1490+/-0.0020\n"
     ]
    }
   ],
   "source": [
    "f91 = ufloat(np.mean(f9),np.sqrt(np.var(f9)))\n",
    "f101 = ufloat(np.mean(f10),np.sqrt(np.var(f10)))\n",
    "f111 = ufloat(np.mean(f11),np.sqrt(np.var(f11)))\n",
    "f121 = ufloat(np.mean(f12),np.sqrt(np.var(f12)))\n",
    "print('Mittelwert fünfter Teil:',f91,'\\n','Mittelwert sechster Teil:',f101,'\\n','Mittelwert siebter Teil:',f111,'\\n','Mittelwert achter Teil:',f121)"
   ]
  },
  {
   "cell_type": "markdown",
   "id": "3001d67c-b75f-442c-9076-60f5ee69dd3e",
   "metadata": {},
   "source": [
    "### 1.3"
   ]
  },
  {
   "cell_type": "code",
   "execution_count": 31,
   "id": "24625c09-496d-4402-a7cf-917756f6a35a",
   "metadata": {},
   "outputs": [],
   "source": [
    "data=np.loadtxt('1.3a).txt', skiprows=4)\n",
    "d1=0.06\n",
    "x1=data[:,0]\n",
    "abb1=data[:,1]\n",
    "abb_geg1=data[:,2]\n",
    "z1 = 1/abb1 +1"
   ]
  },
  {
   "cell_type": "code",
   "execution_count": 18,
   "id": "55ef75d2-06a6-43f9-acaf-291a3869db36",
   "metadata": {},
   "outputs": [],
   "source": [
    "data=np.loadtxt('1.3b).txt', skiprows=4)\n",
    "d2=0.07\n",
    "x2=data[:,0]\n",
    "abb2=data[:,1]\n",
    "abb_geg2=data[:,2]"
   ]
  },
  {
   "cell_type": "code",
   "execution_count": 32,
   "id": "40a91ef9-94af-495f-9f3e-23a72f7c13fa",
   "metadata": {},
   "outputs": [
    {
     "name": "stderr",
     "output_type": "stream",
     "text": [
      "/opt/conda/lib/python3.9/site-packages/kafe2/fit/_base/fit.py:1036: UserWarning: No data/model errors were specified. Parameter errors cannot be calculated.\n",
      "  warnings.warn(\n"
     ]
    },
    {
     "data": {
      "image/png": "[encoded data removed]",
      "text/plain": [
       "<Figure size 1200x500 with 2 Axes>"
      ]
     },
     "metadata": {},
     "output_type": "display_data"
    }
   ],
   "source": [
    "xy_data = XYContainer(z1,x1)\n",
    "def exfit(x1, abb1, f=0.15, h1=1):\n",
    "    return f*abb1 + h1\n",
    "\n",
    "line_fit=Fit(data=xy_data,model_function=exfit)\n",
    "line_fit.data_container.label = \"Verwendete Daten\"\n",
    "line_fit.model_label = \"Modellfunktion\"\n",
    "line_fit.do_fit()\n",
    "line_fit.data_container.axis_labels = [\"I in mA\", \"Beta_korr in 1/s\"]\n",
    "\n",
    "plot = Plot(fit_objects=line_fit)\n",
    "\n",
    "plot.plot()\n",
    "plot.save('BetaueberI.png')\n",
    "plot.show()\n"
   ]
  },
  {
   "cell_type": "code",
   "execution_count": null,
   "id": "b1a36235-0289-4519-bda5-a65b2187a83e",
   "metadata": {},
   "outputs": [],
   "source": []
  }
 ],
 "metadata": {
  "kernelspec": {
   "display_name": "Python 3 (ipykernel)",
   "language": "python",
   "name": "python3"
  },
  "language_info": {
   "codemirror_mode": {
    "name": "ipython",
    "version": 3
   },
   "file_extension": ".py",
   "mimetype": "text/x-python",
   "name": "python",
   "nbconvert_exporter": "python",
   "pygments_lexer": "ipython3",
   "version": "3.9.6"
  }
 },
 "nbformat": 4,
 "nbformat_minor": 5
}
